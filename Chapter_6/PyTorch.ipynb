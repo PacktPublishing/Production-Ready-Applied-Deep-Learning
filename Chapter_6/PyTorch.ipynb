{
 "cells": [
  {
   "cell_type": "markdown",
   "id": "44e4e82d",
   "metadata": {},
   "source": [
    "# Utilizing multiple devices for training PyTorch Model"
   ]
  },
  {
   "cell_type": "code",
   "execution_count": 1,
   "id": "10e32983",
   "metadata": {},
   "outputs": [
    {
     "name": "stdout",
     "output_type": "stream",
     "text": [
      "1.10.0+cu111\n"
     ]
    }
   ],
   "source": [
    "import torch\n",
    "print(torch.__version__)"
   ]
  },
  {
   "cell_type": "markdown",
   "id": "d708ef98",
   "metadata": {},
   "source": [
    "## Preparing model training\n",
    "\n",
    "Prepare necessary components for model training; we will train a simple model with two convolution layers"
   ]
  },
  {
   "cell_type": "code",
   "execution_count": 2,
   "id": "e8a78923",
   "metadata": {
    "scrolled": true
   },
   "outputs": [],
   "source": [
    "from torchvision import datasets\n",
    "from torchvision.transforms import ToTensor\n",
    "train_data = datasets.MNIST(\n",
    "    root = 'data',\n",
    "    train = True,                         \n",
    "    transform = ToTensor(), \n",
    "    download = True,            \n",
    ")\n",
    "test_data = datasets.MNIST(\n",
    "    root = 'data', \n",
    "    train = False, \n",
    "    transform = ToTensor()\n",
    ")"
   ]
  },
  {
   "cell_type": "code",
   "execution_count": 3,
   "id": "7cbead58",
   "metadata": {},
   "outputs": [],
   "source": [
    "from torch.utils.data import DataLoader\n",
    "train_data_loader = torch.utils.data.DataLoader(train_data, \n",
    "                                          batch_size=100, \n",
    "                                          shuffle=True, \n",
    "                                          num_workers=2)\n",
    "test_data_loader = torch.utils.data.DataLoader(test_data, \n",
    "                                          batch_size=100, \n",
    "                                          shuffle=True, \n",
    "                                          num_workers=2)"
   ]
  },
  {
   "cell_type": "code",
   "execution_count": 4,
   "id": "5d3867df",
   "metadata": {},
   "outputs": [],
   "source": [
    "import torch.nn as nn\n",
    "\n",
    "class CNN(nn.Module):\n",
    "    def __init__(self):\n",
    "        super(CNN, self).__init__()\n",
    "        self.conv_layers = nn.Sequential(         \n",
    "            nn.Conv2d(1,16,5,1,2),                              \n",
    "            nn.ReLU(),                      \n",
    "            nn.MaxPool2d(kernel_size=2),\n",
    "            nn.Conv2d(16, 32, 5, 1, 2),     \n",
    "            nn.ReLU(),                      \n",
    "            nn.MaxPool2d(2),                \n",
    "        )\n",
    "        # fully connected layer, output 10 classes\n",
    "        self.linear_layer = nn.Linear(32 * 7 * 7, 10)\n",
    "        \n",
    "    def forward(self, x):\n",
    "        x = self.conv_layers(x)\n",
    "        x = x.view(x.size(0), -1)       \n",
    "        output = self.linear_layer(x)\n",
    "        return output"
   ]
  },
  {
   "cell_type": "code",
   "execution_count": 5,
   "id": "23769482",
   "metadata": {},
   "outputs": [],
   "source": [
    "from torch.autograd import Variable\n",
    "from timeit import default_timer as timer\n",
    "from torch import optim\n",
    "\n",
    "def train_model(model, device):\n",
    "    print(f'Training model on {device}')\n",
    "    \n",
    "    loss_func = nn.CrossEntropyLoss()\n",
    "    optimizer = optim.Adam(model.parameters(), lr = 0.01)\n",
    "    model.train()\n",
    "\n",
    "    num_epochs = 10\n",
    "    start = timer()\n",
    "    for epoch in range(num_epochs):\n",
    "        for images, labels in train_data_loader:\n",
    "            b_x = Variable(images).to(device)\n",
    "            b_y = Variable(labels).to(device)\n",
    "            output = model(b_x)\n",
    "            loss = loss_func(output, b_y)\n",
    "\n",
    "            optimizer.zero_grad()\n",
    "            loss.backward()\n",
    "            optimizer.step()\n",
    "\n",
    "        print (f'Epoch [{epoch + 1}/{num_epochs}], Loss: {loss.item():.4f}')\n",
    "                \n",
    "    end = timer()\n",
    "    print(f'Training took \\033[1m{end - start:.2f} seconds\\033[0m')"
   ]
  },
  {
   "cell_type": "code",
   "execution_count": 6,
   "id": "f9c09123",
   "metadata": {},
   "outputs": [],
   "source": [
    "def check_predictions(model, device):\n",
    "    model.eval()\n",
    "    sample = next(iter(test_data_loader))\n",
    "    images, labels = sample\n",
    "    images = torch.Tensor(images).to(device)\n",
    "    labels = labels.to(device)\n",
    "    test_output = model(images[:10])\n",
    "    pred_y = torch.max(test_output, 1)[1].cpu().data.numpy().squeeze()\n",
    "    print(f'Prediction number: {pred_y}')\n",
    "    \n",
    "    actual_number = labels[:10].cpu().data.numpy()\n",
    "    print(f'Actual number: {actual_number}')"
   ]
  },
  {
   "cell_type": "markdown",
   "id": "cf253985",
   "metadata": {},
   "source": [
    "## Training on CPU"
   ]
  },
  {
   "cell_type": "code",
   "execution_count": 7,
   "id": "b8af0eab",
   "metadata": {},
   "outputs": [],
   "source": [
    "# We will use the cpu device\n",
    "device = torch.device(\"cpu\")\n",
    "model_on_cpu = CNN()"
   ]
  },
  {
   "cell_type": "code",
   "execution_count": 8,
   "id": "facf8351",
   "metadata": {},
   "outputs": [
    {
     "name": "stdout",
     "output_type": "stream",
     "text": [
      "Training model on cpu\n",
      "Epoch [1/10], Loss: 0.0280\n",
      "Epoch [2/10], Loss: 0.0349\n",
      "Epoch [3/10], Loss: 0.1146\n",
      "Epoch [4/10], Loss: 0.0437\n",
      "Epoch [5/10], Loss: 0.0110\n",
      "Epoch [6/10], Loss: 0.0355\n",
      "Epoch [7/10], Loss: 0.0419\n",
      "Epoch [8/10], Loss: 0.0080\n",
      "Epoch [9/10], Loss: 0.1930\n",
      "Epoch [10/10], Loss: 0.0417\n",
      "Training took \u001b[1m55.25 seconds\u001b[0m\n",
      "Prediction number: [0 8 0 3 6 1 2 0 4 5]\n",
      "Actual number: [0 8 0 3 6 1 2 0 4 5]\n"
     ]
    }
   ],
   "source": [
    "train_model(model_on_cpu, device)\n",
    "check_predictions(model_on_cpu, device)"
   ]
  },
  {
   "cell_type": "markdown",
   "id": "5ed5eb47",
   "metadata": {},
   "source": [
    "## Training on single GPU"
   ]
  },
  {
   "cell_type": "code",
   "execution_count": 9,
   "id": "c839a483",
   "metadata": {},
   "outputs": [
    {
     "name": "stdout",
     "output_type": "stream",
     "text": [
      "Tue Aug 23 23:50:23 2022       \r\n",
      "+-----------------------------------------------------------------------------+\r\n",
      "| NVIDIA-SMI 455.32.00    Driver Version: 455.32.00    CUDA Version: 11.1     |\r\n",
      "|-------------------------------+----------------------+----------------------+\r\n",
      "| GPU  Name        Persistence-M| Bus-Id        Disp.A | Volatile Uncorr. ECC |\r\n",
      "| Fan  Temp  Perf  Pwr:Usage/Cap|         Memory-Usage | GPU-Util  Compute M. |\r\n",
      "|                               |                      |               MIG M. |\r\n",
      "|===============================+======================+======================|\r\n",
      "|   0  GeForce RTX 208...  On   | 00000000:01:00.0  On |                  N/A |\r\n",
      "| 39%   48C    P8    34W / 260W |    753MiB / 11019MiB |      8%      Default |\r\n",
      "|                               |                      |                  N/A |\r\n",
      "+-------------------------------+----------------------+----------------------+\r\n",
      "|   1  GeForce RTX 208...  On   | 00000000:02:00.0 Off |                  N/A |\r\n",
      "|  0%   44C    P8    13W / 300W |      4MiB / 11019MiB |      0%      Default |\r\n",
      "|                               |                      |                  N/A |\r\n",
      "+-------------------------------+----------------------+----------------------+\r\n",
      "                                                                               \r\n",
      "+-----------------------------------------------------------------------------+\r\n",
      "| Processes:                                                                  |\r\n",
      "|  GPU   GI   CI        PID   Type   Process name                  GPU Memory |\r\n",
      "|        ID   ID                                                   Usage      |\r\n",
      "|=============================================================================|\r\n",
      "|    0   N/A  N/A      1894      G   /usr/lib/xorg/Xorg                457MiB |\r\n",
      "|    0   N/A  N/A      2085      G   /usr/bin/gnome-shell               90MiB |\r\n",
      "|    0   N/A  N/A      3047      G   ...mviewer/tv_bin/TeamViewer        3MiB |\r\n",
      "|    0   N/A  N/A      5492      G   ...AAAAAAAAA= --shared-files       97MiB |\r\n",
      "|    0   N/A  N/A      8364      G   ...AAAAAAAAA= --shared-files       39MiB |\r\n",
      "|    0   N/A  N/A     13560      G   ...AAAAAAAAA= --shared-files       57MiB |\r\n",
      "|    1   N/A  N/A      1894      G   /usr/lib/xorg/Xorg                  0MiB |\r\n",
      "|    1   N/A  N/A      2085      G   /usr/bin/gnome-shell                0MiB |\r\n",
      "|    1   N/A  N/A      3047      G   ...mviewer/tv_bin/TeamViewer        0MiB |\r\n",
      "|    1   N/A  N/A      5492      G   ...AAAAAAAAA= --shared-files        0MiB |\r\n",
      "|    1   N/A  N/A      8364      G   ...AAAAAAAAA= --shared-files        0MiB |\r\n",
      "|    1   N/A  N/A     13560      G   ...AAAAAAAAA= --shared-files        0MiB |\r\n",
      "+-----------------------------------------------------------------------------+\r\n"
     ]
    }
   ],
   "source": [
    "# Available GPU can be checked with `nvidia-smi` command\n",
    "!nvidia-smi"
   ]
  },
  {
   "cell_type": "code",
   "execution_count": 10,
   "id": "a86f6c42",
   "metadata": {},
   "outputs": [
    {
     "data": {
      "text/plain": [
       "CNN(\n",
       "  (conv_layers): Sequential(\n",
       "    (0): Conv2d(1, 16, kernel_size=(5, 5), stride=(1, 1), padding=(2, 2))\n",
       "    (1): ReLU()\n",
       "    (2): MaxPool2d(kernel_size=2, stride=2, padding=0, dilation=1, ceil_mode=False)\n",
       "    (3): Conv2d(16, 32, kernel_size=(5, 5), stride=(1, 1), padding=(2, 2))\n",
       "    (4): ReLU()\n",
       "    (5): MaxPool2d(kernel_size=2, stride=2, padding=0, dilation=1, ceil_mode=False)\n",
       "  )\n",
       "  (linear_layer): Linear(in_features=1568, out_features=10, bias=True)\n",
       ")"
      ]
     },
     "execution_count": 10,
     "metadata": {},
     "output_type": "execute_result"
    }
   ],
   "source": [
    "model_on_gpu = CNN()\n",
    "\n",
    "# Put the model on the first device\n",
    "device = torch.device(\"cuda:0\")\n",
    "model_on_gpu.to(device)"
   ]
  },
  {
   "cell_type": "code",
   "execution_count": 11,
   "id": "f76036c8",
   "metadata": {},
   "outputs": [
    {
     "name": "stdout",
     "output_type": "stream",
     "text": [
      "Training model on cuda:0\n",
      "Epoch [1/10], Loss: 0.0169\n",
      "Epoch [2/10], Loss: 0.0597\n",
      "Epoch [3/10], Loss: 0.0352\n",
      "Epoch [4/10], Loss: 0.0146\n",
      "Epoch [5/10], Loss: 0.0518\n",
      "Epoch [6/10], Loss: 0.0302\n",
      "Epoch [7/10], Loss: 0.0077\n",
      "Epoch [8/10], Loss: 0.0150\n",
      "Epoch [9/10], Loss: 0.0666\n",
      "Epoch [10/10], Loss: 0.1359\n",
      "Training took \u001b[1m23.70 seconds\u001b[0m\n",
      "Prediction number: [7 2 7 3 8 9 6 3 4 2]\n",
      "Actual number: [7 2 7 3 8 9 6 3 4 2]\n"
     ]
    }
   ],
   "source": [
    "train_model(model_on_gpu, device)\n",
    "check_predictions(model_on_gpu, device)"
   ]
  },
  {
   "cell_type": "code",
   "execution_count": 12,
   "id": "2648d0df",
   "metadata": {},
   "outputs": [
    {
     "name": "stdout",
     "output_type": "stream",
     "text": [
      "Prediction number: [9 3 9 7 2 4 1 2 8 5]\n",
      "Actual number: [9 3 9 7 2 4 1 2 8 5]\n"
     ]
    }
   ],
   "source": [
    "check_predictions(model_on_gpu, device)"
   ]
  },
  {
   "cell_type": "markdown",
   "id": "6a9cbb99",
   "metadata": {},
   "source": [
    "## Training on multiple GPUs using data parallelism"
   ]
  },
  {
   "cell_type": "code",
   "execution_count": 13,
   "id": "1426a210",
   "metadata": {},
   "outputs": [
    {
     "data": {
      "text/plain": [
       "2"
      ]
     },
     "execution_count": 13,
     "metadata": {},
     "output_type": "execute_result"
    }
   ],
   "source": [
    "torch.cuda.device_count()"
   ]
  },
  {
   "cell_type": "code",
   "execution_count": 14,
   "id": "19adac92",
   "metadata": {},
   "outputs": [
    {
     "data": {
      "text/plain": [
       "DataParallel(\n",
       "  (module): CNN(\n",
       "    (conv_layers): Sequential(\n",
       "      (0): Conv2d(1, 16, kernel_size=(5, 5), stride=(1, 1), padding=(2, 2))\n",
       "      (1): ReLU()\n",
       "      (2): MaxPool2d(kernel_size=2, stride=2, padding=0, dilation=1, ceil_mode=False)\n",
       "      (3): Conv2d(16, 32, kernel_size=(5, 5), stride=(1, 1), padding=(2, 2))\n",
       "      (4): ReLU()\n",
       "      (5): MaxPool2d(kernel_size=2, stride=2, padding=0, dilation=1, ceil_mode=False)\n",
       "    )\n",
       "    (linear_layer): Linear(in_features=1568, out_features=10, bias=True)\n",
       "  )\n",
       ")"
      ]
     },
     "execution_count": 14,
     "metadata": {},
     "output_type": "execute_result"
    }
   ],
   "source": [
    "import torch.nn as nn\n",
    "\n",
    "cnn_model = CNN()\n",
    "\n",
    "# we need to wrap around the model using nn.DataParallel\n",
    "data_parallel_model = nn.DataParallel(cnn_model)\n",
    "\n",
    "# Put the model on the first device (any device should be fine)\n",
    "device = torch.device(\"cuda:0\")\n",
    "data_parallel_model.to(device)"
   ]
  },
  {
   "cell_type": "code",
   "execution_count": 15,
   "id": "a05d17c9",
   "metadata": {},
   "outputs": [
    {
     "name": "stdout",
     "output_type": "stream",
     "text": [
      "Training model on cuda:0\n",
      "Epoch [1/10], Loss: 0.1232\n",
      "Epoch [2/10], Loss: 0.0888\n",
      "Epoch [3/10], Loss: 0.0295\n",
      "Epoch [4/10], Loss: 0.0113\n",
      "Epoch [5/10], Loss: 0.0058\n",
      "Epoch [6/10], Loss: 0.1088\n",
      "Epoch [7/10], Loss: 0.0358\n",
      "Epoch [8/10], Loss: 0.0013\n",
      "Epoch [9/10], Loss: 0.0326\n",
      "Epoch [10/10], Loss: 0.0398\n",
      "Training took \u001b[1m25.94 seconds\u001b[0m\n",
      "Prediction number: [3 9 2 1 5 5 7 5 5 2]\n",
      "Actual number: [3 9 2 1 5 5 7 5 5 2]\n"
     ]
    }
   ],
   "source": [
    "train_model(data_parallel_model, device)\n",
    "check_predictions(model_on_gpu, device)"
   ]
  }
 ],
 "metadata": {
  "kernelspec": {
   "display_name": "Python 3",
   "language": "python",
   "name": "python3"
  },
  "language_info": {
   "codemirror_mode": {
    "name": "ipython",
    "version": 3
   },
   "file_extension": ".py",
   "mimetype": "text/x-python",
   "name": "python",
   "nbconvert_exporter": "python",
   "pygments_lexer": "ipython3",
   "version": "3.6.9"
  }
 },
 "nbformat": 4,
 "nbformat_minor": 5
}
