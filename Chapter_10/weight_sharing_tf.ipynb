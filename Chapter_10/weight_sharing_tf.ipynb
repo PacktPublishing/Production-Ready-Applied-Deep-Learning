{
 "cells": [
  {
   "cell_type": "markdown",
   "id": "cf5ce2b6",
   "metadata": {},
   "source": [
    "# Weight Sharing in TensorFlow"
   ]
  },
  {
   "attachments": {},
   "cell_type": "markdown",
   "id": "57ca9b15",
   "metadata": {},
   "source": [
    "TF provides weight sharing for both Sequential and Functional TF models through TensorFlow Model Optimization Toolkit"
   ]
  },
  {
   "cell_type": "code",
   "execution_count": 10,
   "id": "167ac616",
   "metadata": {},
   "outputs": [],
   "source": [
    "import tensorflow_model_optimization as tfmot"
   ]
  },
  {
   "cell_type": "code",
   "execution_count": 11,
   "id": "783ea2bb",
   "metadata": {},
   "outputs": [
    {
     "name": "stdout",
     "output_type": "stream",
     "text": [
      "2.11.0-dev20220820\n"
     ]
    }
   ],
   "source": [
    "import tensorflow as tf\n",
    "print(tf.__version__)\n",
    "from tensorflow import keras\n",
    "from tensorflow.keras import layers\n",
    "import pandas as pd\n",
    "import numpy as np\n",
    "# data\n",
    "data = pd.read_csv(\"sample_google_scholar.csv\")\n",
    "data = data.dropna()\n",
    "def convert_first_ten_characters_into_tensor(data):\n",
    "    first_ten_characters = data[:10]\n",
    "    converted = [ord(char)/256 for char in first_ten_characters]\n",
    "    while len(converted) < 10:\n",
    "        converted.append(0.0)\n",
    "    return np.array(converted)\n",
    "converted_affiliation = data['affiliation'].map(convert_first_ten_characters_into_tensor)\n",
    "affiliation = np.vstack(converted_affiliation.values)\n",
    "converted_email = data['email'].str.contains('.edu')\n",
    "labels = converted_email.values\n",
    "# model \n",
    "input_shape = 10"
   ]
  },
  {
   "cell_type": "code",
   "execution_count": 12,
   "id": "a3c1fb30",
   "metadata": {},
   "outputs": [],
   "source": [
    "tf_model = keras.Sequential(\n",
    "    [\n",
    "        keras.Input(shape=input_shape),\n",
    "        layers.Dense(128, activation=\"relu\", name=\"layer1\"),\n",
    "        layers.Dense(64, activation=\"relu\", name=\"layer2\"),\n",
    "        layers.Dense(1, activation=\"sigmoid\", name=\"layer3\"),\n",
    "    ])\n",
    "loss = tf.keras.losses.BinaryCrossentropy()\n",
    "optimizer = tf.keras.optimizers.Adam()"
   ]
  },
  {
   "cell_type": "code",
   "execution_count": 13,
   "id": "5767a92f",
   "metadata": {},
   "outputs": [
    {
     "name": "stdout",
     "output_type": "stream",
     "text": [
      "Epoch 1/5\n",
      "WARNING:tensorflow:AutoGraph could not transform <function Model.make_train_function.<locals>.train_function at 0x7fc96741c560> and will run it as-is.\n",
      "Please report this to the TensorFlow team. When filing the bug, set the verbosity to 10 (on Linux, `export AUTOGRAPH_VERBOSITY=10`) and attach the full output.\n",
      "Cause: 'arguments' object has no attribute 'posonlyargs'\n",
      "To silence this warning, decorate the function with @tf.autograph.experimental.do_not_convert\n",
      "WARNING: AutoGraph could not transform <function Model.make_train_function.<locals>.train_function at 0x7fc96741c560> and will run it as-is.\n",
      "Please report this to the TensorFlow team. When filing the bug, set the verbosity to 10 (on Linux, `export AUTOGRAPH_VERBOSITY=10`) and attach the full output.\n",
      "Cause: 'arguments' object has no attribute 'posonlyargs'\n",
      "To silence this warning, decorate the function with @tf.autograph.experimental.do_not_convert\n",
      "1/3 [=========>....................] - ETA: 0s - loss: 0.7183WARNING:tensorflow:AutoGraph could not transform <function Model.make_test_function.<locals>.test_function at 0x7fc9673fa5f0> and will run it as-is.\n",
      "Please report this to the TensorFlow team. When filing the bug, set the verbosity to 10 (on Linux, `export AUTOGRAPH_VERBOSITY=10`) and attach the full output.\n",
      "Cause: 'arguments' object has no attribute 'posonlyargs'\n",
      "To silence this warning, decorate the function with @tf.autograph.experimental.do_not_convert\n",
      "WARNING: AutoGraph could not transform <function Model.make_test_function.<locals>.test_function at 0x7fc9673fa5f0> and will run it as-is.\n",
      "Please report this to the TensorFlow team. When filing the bug, set the verbosity to 10 (on Linux, `export AUTOGRAPH_VERBOSITY=10`) and attach the full output.\n",
      "Cause: 'arguments' object has no attribute 'posonlyargs'\n",
      "To silence this warning, decorate the function with @tf.autograph.experimental.do_not_convert\n",
      "3/3 [==============================] - 0s 70ms/step - loss: 0.6979 - val_loss: 0.6835\n",
      "Epoch 2/5\n",
      "3/3 [==============================] - 0s 13ms/step - loss: 0.6905 - val_loss: 0.6969\n",
      "Epoch 3/5\n",
      "3/3 [==============================] - 0s 14ms/step - loss: 0.6876 - val_loss: 0.7003\n",
      "Epoch 4/5\n",
      "3/3 [==============================] - 0s 16ms/step - loss: 0.6860 - val_loss: 0.7105\n",
      "Epoch 5/5\n",
      "3/3 [==============================] - 0s 15ms/step - loss: 0.6846 - val_loss: 0.7134\n"
     ]
    },
    {
     "data": {
      "text/plain": [
       "<keras.callbacks.History at 0x7fc967866c50>"
      ]
     },
     "execution_count": 13,
     "metadata": {},
     "output_type": "execute_result"
    }
   ],
   "source": [
    "tf_model.compile(loss=loss, optimizer=optimizer)\n",
    "# model fit \n",
    "tf_model.fit(affiliation, labels, batch_size=16, epochs=5, validation_split=0.2)"
   ]
  },
  {
   "cell_type": "code",
   "execution_count": 14,
   "id": "69dee4a8",
   "metadata": {},
   "outputs": [],
   "source": [
    "CentroidInitialization = tfmot.clustering.keras.CentroidInitialization\n",
    "clustering_params = {\n",
    "  'number_of_clusters': 10,\n",
    "  'cluster_centroids_init': CentroidInitialization.LINEAR\n",
    "}"
   ]
  },
  {
   "cell_type": "code",
   "execution_count": 15,
   "id": "6f62d9a8",
   "metadata": {},
   "outputs": [],
   "source": [
    "clustered_model = tfmot.clustering.keras.cluster_weights(tf_model, **clustering_params)"
   ]
  },
  {
   "cell_type": "code",
   "execution_count": 16,
   "id": "a67fbfb2",
   "metadata": {},
   "outputs": [
    {
     "name": "stdout",
     "output_type": "stream",
     "text": [
      "Model: \"sequential_1\"\n",
      "_________________________________________________________________\n",
      " Layer (type)                Output Shape              Param #   \n",
      "=================================================================\n",
      " cluster_layer1 (ClusterWeig  (None, 128)              2698      \n",
      " hts)                                                            \n",
      "                                                                 \n",
      " cluster_layer2 (ClusterWeig  (None, 64)               16458     \n",
      " hts)                                                            \n",
      "                                                                 \n",
      " cluster_layer3 (ClusterWeig  (None, 1)                139       \n",
      " hts)                                                            \n",
      "                                                                 \n",
      "=================================================================\n",
      "Total params: 19,295\n",
      "Trainable params: 9,759\n",
      "Non-trainable params: 9,536\n",
      "_________________________________________________________________\n"
     ]
    }
   ],
   "source": [
    "clustered_model.summary()"
   ]
  },
  {
   "cell_type": "code",
   "execution_count": 17,
   "id": "278e6371",
   "metadata": {},
   "outputs": [],
   "source": [
    "final_model = tfmot.clustering.keras.strip_clustering(clustered_model) "
   ]
  },
  {
   "cell_type": "code",
   "execution_count": 18,
   "id": "9e31be41",
   "metadata": {},
   "outputs": [
    {
     "name": "stdout",
     "output_type": "stream",
     "text": [
      "Model: \"sequential_1\"\n",
      "_________________________________________________________________\n",
      " Layer (type)                Output Shape              Param #   \n",
      "=================================================================\n",
      " layer1 (Dense)              (None, 128)               1408      \n",
      "                                                                 \n",
      " layer2 (Dense)              (None, 64)                8256      \n",
      "                                                                 \n",
      " layer3 (Dense)              (None, 1)                 65        \n",
      "                                                                 \n",
      "=================================================================\n",
      "Total params: 9,729\n",
      "Trainable params: 9,729\n",
      "Non-trainable params: 0\n",
      "_________________________________________________________________\n"
     ]
    }
   ],
   "source": [
    "final_model.summary()"
   ]
  },
  {
   "cell_type": "code",
   "execution_count": null,
   "id": "2e9e579c",
   "metadata": {},
   "outputs": [],
   "source": []
  }
 ],
 "metadata": {
  "kernelspec": {
   "display_name": "Python 3 (ipykernel)",
   "language": "python",
   "name": "python3"
  },
  "language_info": {
   "codemirror_mode": {
    "name": "ipython",
    "version": 3
   },
   "file_extension": ".py",
   "mimetype": "text/x-python",
   "name": "python",
   "nbconvert_exporter": "python",
   "pygments_lexer": "ipython3",
   "version": "3.7.11"
  }
 },
 "nbformat": 4,
 "nbformat_minor": 5
}
