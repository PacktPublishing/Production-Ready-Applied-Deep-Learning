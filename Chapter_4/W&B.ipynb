{
 "cells": [
  {
   "cell_type": "code",
   "execution_count": 1,
   "id": "36677c6e",
   "metadata": {},
   "outputs": [],
   "source": [
    "import wandb"
   ]
  },
  {
   "cell_type": "code",
   "execution_count": 2,
   "id": "72c0ba62",
   "metadata": {},
   "outputs": [],
   "source": [
    "import numpy as np"
   ]
  },
  {
   "cell_type": "code",
   "execution_count": 3,
   "id": "1928d148",
   "metadata": {},
   "outputs": [
    {
     "name": "stderr",
     "output_type": "stream",
     "text": [
      "\u001b[34m\u001b[1mwandb\u001b[0m: Currently logged in as: \u001b[33mtpalczew\u001b[0m. Use \u001b[1m`wandb login --relogin`\u001b[0m to force relogin\n"
     ]
    },
    {
     "data": {
      "text/html": [
       "Tracking run with wandb version 0.12.17"
      ],
      "text/plain": [
       "<IPython.core.display.HTML object>"
      ]
     },
     "metadata": {},
     "output_type": "display_data"
    },
    {
     "data": {
      "text/html": [
       "Run data is saved locally in <code>/Users/tpalczew/wandb/run-20220603_220209-37p7f8fh</code>"
      ],
      "text/plain": [
       "<IPython.core.display.HTML object>"
      ]
     },
     "metadata": {},
     "output_type": "display_data"
    },
    {
     "data": {
      "text/html": [
       "Syncing run <strong><a href=\"https://wandb.ai/tpalczew/example-DL-Book/runs/37p7f8fh\" target=\"_blank\">run-1</a></strong> to <a href=\"https://wandb.ai/tpalczew/example-DL-Book\" target=\"_blank\">Weights & Biases</a> (<a href=\"https://wandb.me/run\" target=\"_blank\">docs</a>)<br/>"
      ],
      "text/plain": [
       "<IPython.core.display.HTML object>"
      ]
     },
     "metadata": {},
     "output_type": "display_data"
    },
    {
     "data": {
      "text/html": [
       "<button onClick=\"this.nextSibling.style.display='block';this.style.display='none';\">Display W&B run</button><iframe src=\"https://wandb.ai/tpalczew/example-DL-Book/runs/37p7f8fh?jupyter=true\" style=\"border:none;width:100%;height:420px;display:none;\"></iframe>"
      ],
      "text/plain": [
       "<wandb.sdk.wandb_run.Run at 0x7fddf3d40c50>"
      ]
     },
     "execution_count": 3,
     "metadata": {},
     "output_type": "execute_result"
    }
   ],
   "source": [
    "wandb.init(project=\"example-DL-Book\", name=\"run-1\", entity=\"tpalczew\")"
   ]
  },
  {
   "cell_type": "code",
   "execution_count": 4,
   "id": "aed6a79b",
   "metadata": {},
   "outputs": [],
   "source": [
    "wandb.config = {\n",
    "  \"learning_rate\": 0.001,\n",
    "  \"epochs\": 100,\n",
    "  \"batch_size\": 128\n",
    "}"
   ]
  },
  {
   "cell_type": "code",
   "execution_count": 5,
   "id": "971beae9",
   "metadata": {},
   "outputs": [],
   "source": [
    "file_path = '/Users/tpalczew/WB/example/'"
   ]
  },
  {
   "cell_type": "code",
   "execution_count": 6,
   "id": "72119cf0",
   "metadata": {},
   "outputs": [
    {
     "name": "stderr",
     "output_type": "stream",
     "text": [
      "\u001b[34m\u001b[1mwandb\u001b[0m: Adding directory to artifact (/Users/tpalczew/WB/example)... Done. 0.1s\n"
     ]
    },
    {
     "data": {
      "text/plain": [
       "<wandb.sdk.wandb_artifacts.Artifact at 0x7fddf3ed9210>"
      ]
     },
     "execution_count": 6,
     "metadata": {},
     "output_type": "execute_result"
    }
   ],
   "source": [
    "wandb.log_artifact(file_path, name='new_artifact', type='my_dataset')"
   ]
  },
  {
   "cell_type": "code",
   "execution_count": 7,
   "id": "fe7e637d",
   "metadata": {},
   "outputs": [],
   "source": [
    "artifact = wandb.Artifact('new_artifact', type='my_dataset')"
   ]
  },
  {
   "cell_type": "code",
   "execution_count": 8,
   "id": "454d0957",
   "metadata": {},
   "outputs": [
    {
     "name": "stderr",
     "output_type": "stream",
     "text": [
      "\u001b[34m\u001b[1mwandb\u001b[0m: Adding directory to artifact (/Users/tpalczew/dataset)... Done. 0.1s\n"
     ]
    }
   ],
   "source": [
    "artifact.add_dir('/Users/tpalczew/dataset/')"
   ]
  },
  {
   "cell_type": "code",
   "execution_count": 9,
   "id": "3ec0c2d7",
   "metadata": {},
   "outputs": [
    {
     "data": {
      "text/plain": [
       "<wandb.sdk.wandb_artifacts.Artifact at 0x7fddf3efad50>"
      ]
     },
     "execution_count": 9,
     "metadata": {},
     "output_type": "execute_result"
    }
   ],
   "source": [
    "wandb.log_artifact(artifact)"
   ]
  },
  {
   "cell_type": "code",
   "execution_count": 11,
   "id": "b9d1d82d",
   "metadata": {},
   "outputs": [
    {
     "data": {
      "text/html": [
       "Finishing last run (ID:1fe9be3r) before initializing another..."
      ],
      "text/plain": [
       "<IPython.core.display.HTML object>"
      ]
     },
     "metadata": {},
     "output_type": "display_data"
    },
    {
     "data": {
      "text/html": [
       "Waiting for W&B process to finish... <strong style=\"color:green\">(success).</strong>"
      ],
      "text/plain": [
       "<IPython.core.display.HTML object>"
      ]
     },
     "metadata": {},
     "output_type": "display_data"
    },
    {
     "data": {
      "application/vnd.jupyter.widget-view+json": {
       "model_id": "",
       "version_major": 2,
       "version_minor": 0
      },
      "text/plain": [
       "VBox(children=(Label(value='0.000 MB of 0.000 MB uploaded (0.000 MB deduped)\\r'), FloatProgress(value=1.0, max…"
      ]
     },
     "metadata": {},
     "output_type": "display_data"
    },
    {
     "data": {
      "text/html": [
       "Synced <strong style=\"color:#cdcd00\">lucky-brook-3</strong>: <a href=\"https://wandb.ai/tpalczew/uncategorized/runs/1fe9be3r\" target=\"_blank\">https://wandb.ai/tpalczew/uncategorized/runs/1fe9be3r</a><br/>Synced 5 W&B file(s), 0 media file(s), 0 artifact file(s) and 0 other file(s)"
      ],
      "text/plain": [
       "<IPython.core.display.HTML object>"
      ]
     },
     "metadata": {},
     "output_type": "display_data"
    },
    {
     "data": {
      "text/html": [
       "Find logs at: <code>./wandb/run-20220603_220217-1fe9be3r/logs</code>"
      ],
      "text/plain": [
       "<IPython.core.display.HTML object>"
      ]
     },
     "metadata": {},
     "output_type": "display_data"
    },
    {
     "data": {
      "text/html": [
       "Successfully finished last run (ID:1fe9be3r). Initializing new run:<br/>"
      ],
      "text/plain": [
       "<IPython.core.display.HTML object>"
      ]
     },
     "metadata": {},
     "output_type": "display_data"
    },
    {
     "data": {
      "text/html": [
       "Tracking run with wandb version 0.12.17"
      ],
      "text/plain": [
       "<IPython.core.display.HTML object>"
      ]
     },
     "metadata": {},
     "output_type": "display_data"
    },
    {
     "data": {
      "text/html": [
       "Run data is saved locally in <code>/Users/tpalczew/wandb/run-20220603_220402-3kdto237</code>"
      ],
      "text/plain": [
       "<IPython.core.display.HTML object>"
      ]
     },
     "metadata": {},
     "output_type": "display_data"
    },
    {
     "data": {
      "text/html": [
       "Syncing run <strong><a href=\"https://wandb.ai/tpalczew/uncategorized/runs/3kdto237\" target=\"_blank\">lemon-dragon-4</a></strong> to <a href=\"https://wandb.ai/tpalczew/uncategorized\" target=\"_blank\">Weights & Biases</a> (<a href=\"https://wandb.me/run\" target=\"_blank\">docs</a>)<br/>"
      ],
      "text/plain": [
       "<IPython.core.display.HTML object>"
      ]
     },
     "metadata": {},
     "output_type": "display_data"
    }
   ],
   "source": [
    "import wandb\n",
    "run = wandb.init()\n",
    "artifact = run.use_artifact('tpalczew/example-DL-Book/new_artifact:v1', type='my_dataset')\n",
    "artifact_dir = artifact.download()"
   ]
  },
  {
   "cell_type": "code",
   "execution_count": 12,
   "id": "45c0e4db",
   "metadata": {},
   "outputs": [
    {
     "name": "stdout",
     "output_type": "stream",
     "text": [
      "./artifacts/new_artifact:v1\n"
     ]
    }
   ],
   "source": [
    "print(artifact_dir)"
   ]
  },
  {
   "cell_type": "code",
   "execution_count": 13,
   "id": "07d53916",
   "metadata": {},
   "outputs": [
    {
     "name": "stdout",
     "output_type": "stream",
     "text": [
      "2.9.1\n"
     ]
    }
   ],
   "source": [
    "import tensorflow as tf\n",
    "from tensorflow import keras\n",
    "from tensorflow.keras import layers\n",
    "print(tf.__version__) # should return tf 2.x version "
   ]
  },
  {
   "cell_type": "code",
   "execution_count": 14,
   "id": "55cf0e98",
   "metadata": {},
   "outputs": [],
   "source": [
    "import os\n",
    "os.environ[\"CUDA_DEVICE_ORDER\"] = \"PCI_BUS_ID\"\n",
    "os.environ[\"CUDA_VISIBLE_DEVICES\"] = \"\""
   ]
  },
  {
   "cell_type": "code",
   "execution_count": 15,
   "id": "c3338e8d",
   "metadata": {},
   "outputs": [
    {
     "name": "stderr",
     "output_type": "stream",
     "text": [
      "2022-06-03 22:04:18.206023: I tensorflow/core/platform/cpu_feature_guard.cc:193] This TensorFlow binary is optimized with oneAPI Deep Neural Network Library (oneDNN) to use the following CPU instructions in performance-critical operations:  AVX2 FMA\n",
      "To enable them in other operations, rebuild TensorFlow with the appropriate compiler flags.\n"
     ]
    }
   ],
   "source": [
    "model = keras.Sequential()\n",
    "model.add(keras.Input(shape=(50,)))\n",
    "model.add(layers.Dense(128, activation=\"relu\", name=\"layer1\"))\n",
    "model.add(layers.Dense(256, activation=\"relu\", name=\"layer2\"))\n",
    "model.add(layers.Dense(1, activation=\"sigmoid\", name=\"layer3\"))"
   ]
  },
  {
   "cell_type": "code",
   "execution_count": 19,
   "id": "1f5c188c",
   "metadata": {},
   "outputs": [],
   "source": [
    "from wandb.keras import WandbCallback"
   ]
  },
  {
   "cell_type": "code",
   "execution_count": 22,
   "id": "1c00c476",
   "metadata": {},
   "outputs": [],
   "source": [
    "wandb.config = {\n",
    "  \"learning_rate\": 0.001,\n",
    "  \"epochs\": 100,\n",
    "  \"batch_size\": 128\n",
    "}"
   ]
  },
  {
   "cell_type": "code",
   "execution_count": 23,
   "id": "8a9afe26",
   "metadata": {},
   "outputs": [
    {
     "name": "stdout",
     "output_type": "stream",
     "text": [
      "{'learning_rate': 0.001, 'epochs': 100, 'batch_size': 128}\n"
     ]
    }
   ],
   "source": [
    "print(wandb.config)"
   ]
  },
  {
   "cell_type": "code",
   "execution_count": 24,
   "id": "acab3cdd",
   "metadata": {},
   "outputs": [],
   "source": [
    "optimizer = tf.keras.optimizers.Nadam(learning_rate=wandb.config['learning_rate'], beta_1=0.9, beta_2=0.999, clipnorm=1.0)\n",
    "\n",
    "model.compile(loss = \"binary_crossentropy\", optimizer=optimizer, metrics=['accuracy'])"
   ]
  },
  {
   "cell_type": "code",
   "execution_count": 25,
   "id": "1819e253",
   "metadata": {},
   "outputs": [],
   "source": [
    "fake_data = np.random.rand(1000,50)"
   ]
  },
  {
   "cell_type": "code",
   "execution_count": 26,
   "id": "6e62f6f1",
   "metadata": {},
   "outputs": [],
   "source": [
    "fake_labels = np.random.randint(2, size=(1000,1))"
   ]
  },
  {
   "cell_type": "code",
   "execution_count": 27,
   "id": "e8c3827b",
   "metadata": {},
   "outputs": [],
   "source": [
    "fake_data_val = np.random.rand(1000,50)"
   ]
  },
  {
   "cell_type": "code",
   "execution_count": 28,
   "id": "c68d925b",
   "metadata": {},
   "outputs": [],
   "source": [
    "fake_labels_val = np.random.randint(2, size=(1000,1))"
   ]
  },
  {
   "cell_type": "code",
   "execution_count": 29,
   "id": "67d999a9",
   "metadata": {},
   "outputs": [
    {
     "name": "stderr",
     "output_type": "stream",
     "text": [
      "\u001b[34m\u001b[1mwandb\u001b[0m: \u001b[33mWARNING\u001b[0m The save_model argument by default saves the model in the HDF5 format that cannot save custom objects like subclassed models and custom layers. This behavior will be deprecated in a future release in favor of the SavedModel format. Meanwhile, the HDF5 model is saved as W&B files and the SavedModel as W&B Artifacts.\n"
     ]
    }
   ],
   "source": [
    "logging_callback = WandbCallback(log_evaluation=True)"
   ]
  },
  {
   "cell_type": "code",
   "execution_count": 30,
   "id": "1f8da8f7",
   "metadata": {},
   "outputs": [
    {
     "name": "stdout",
     "output_type": "stream",
     "text": [
      "Epoch 1/100\n",
      "8/8 [==============================] - 1s 27ms/step - loss: 0.6966 - accuracy: 0.5290 - val_loss: 0.6951 - val_accuracy: 0.4930 - _timestamp: 1654319267.0000 - _runtime: 221.0000\n",
      "Epoch 2/100\n",
      "8/8 [==============================] - 0s 9ms/step - loss: 0.6879 - accuracy: 0.5480 - val_loss: 0.6934 - val_accuracy: 0.5050 - _timestamp: 1654319267.0000 - _runtime: 221.0000\n",
      "Epoch 3/100\n",
      "8/8 [==============================] - 0s 5ms/step - loss: 0.6823 - accuracy: 0.5600 - val_loss: 0.7003 - val_accuracy: 0.5070 - _timestamp: 1654319267.0000 - _runtime: 221.0000\n",
      "Epoch 4/100\n",
      "8/8 [==============================] - 0s 6ms/step - loss: 0.6805 - accuracy: 0.5540 - val_loss: 0.6949 - val_accuracy: 0.4960 - _timestamp: 1654319267.0000 - _runtime: 221.0000\n",
      "Epoch 5/100\n",
      "8/8 [==============================] - 0s 5ms/step - loss: 0.6733 - accuracy: 0.5970 - val_loss: 0.6944 - val_accuracy: 0.5130 - _timestamp: 1654319267.0000 - _runtime: 221.0000\n",
      "Epoch 6/100\n",
      "8/8 [==============================] - 0s 5ms/step - loss: 0.6655 - accuracy: 0.6110 - val_loss: 0.6985 - val_accuracy: 0.5130 - _timestamp: 1654319267.0000 - _runtime: 221.0000\n",
      "Epoch 7/100\n",
      "8/8 [==============================] - 0s 5ms/step - loss: 0.6586 - accuracy: 0.6040 - val_loss: 0.6966 - val_accuracy: 0.5140 - _timestamp: 1654319267.0000 - _runtime: 221.0000\n",
      "Epoch 8/100\n",
      "8/8 [==============================] - 0s 5ms/step - loss: 0.6516 - accuracy: 0.6360 - val_loss: 0.6989 - val_accuracy: 0.5210 - _timestamp: 1654319267.0000 - _runtime: 221.0000\n",
      "Epoch 9/100\n",
      "8/8 [==============================] - 0s 6ms/step - loss: 0.6499 - accuracy: 0.6280 - val_loss: 0.7164 - val_accuracy: 0.5030 - _timestamp: 1654319267.0000 - _runtime: 221.0000\n",
      "Epoch 10/100\n",
      "8/8 [==============================] - 0s 5ms/step - loss: 0.6415 - accuracy: 0.6280 - val_loss: 0.7055 - val_accuracy: 0.5130 - _timestamp: 1654319267.0000 - _runtime: 221.0000\n",
      "Epoch 11/100\n",
      "8/8 [==============================] - 0s 6ms/step - loss: 0.6368 - accuracy: 0.6470 - val_loss: 0.7109 - val_accuracy: 0.5050 - _timestamp: 1654319267.0000 - _runtime: 221.0000\n",
      "Epoch 12/100\n",
      "8/8 [==============================] - 0s 5ms/step - loss: 0.6308 - accuracy: 0.6470 - val_loss: 0.7128 - val_accuracy: 0.5060 - _timestamp: 1654319267.0000 - _runtime: 221.0000\n",
      "Epoch 13/100\n",
      "8/8 [==============================] - 0s 5ms/step - loss: 0.6160 - accuracy: 0.6850 - val_loss: 0.7069 - val_accuracy: 0.5110 - _timestamp: 1654319268.0000 - _runtime: 222.0000\n",
      "Epoch 14/100\n",
      "8/8 [==============================] - 0s 5ms/step - loss: 0.5996 - accuracy: 0.6960 - val_loss: 0.7187 - val_accuracy: 0.5070 - _timestamp: 1654319268.0000 - _runtime: 222.0000\n",
      "Epoch 15/100\n",
      "8/8 [==============================] - 0s 5ms/step - loss: 0.5931 - accuracy: 0.7010 - val_loss: 0.7216 - val_accuracy: 0.5170 - _timestamp: 1654319268.0000 - _runtime: 222.0000\n",
      "Epoch 16/100\n",
      "8/8 [==============================] - 0s 7ms/step - loss: 0.5873 - accuracy: 0.6860 - val_loss: 0.7334 - val_accuracy: 0.5170 - _timestamp: 1654319268.0000 - _runtime: 222.0000\n",
      "Epoch 17/100\n",
      "8/8 [==============================] - 0s 5ms/step - loss: 0.5838 - accuracy: 0.6920 - val_loss: 0.7225 - val_accuracy: 0.5110 - _timestamp: 1654319268.0000 - _runtime: 222.0000\n",
      "Epoch 18/100\n",
      "8/8 [==============================] - 0s 5ms/step - loss: 0.5851 - accuracy: 0.7040 - val_loss: 0.7180 - val_accuracy: 0.5260 - _timestamp: 1654319268.0000 - _runtime: 222.0000\n",
      "Epoch 19/100\n",
      "8/8 [==============================] - 0s 5ms/step - loss: 0.5622 - accuracy: 0.7240 - val_loss: 0.7330 - val_accuracy: 0.5200 - _timestamp: 1654319268.0000 - _runtime: 222.0000\n",
      "Epoch 20/100\n",
      "8/8 [==============================] - 0s 5ms/step - loss: 0.5291 - accuracy: 0.7720 - val_loss: 0.7427 - val_accuracy: 0.5120 - _timestamp: 1654319268.0000 - _runtime: 222.0000\n",
      "Epoch 21/100\n",
      "8/8 [==============================] - 0s 5ms/step - loss: 0.5365 - accuracy: 0.7520 - val_loss: 0.7553 - val_accuracy: 0.5240 - _timestamp: 1654319268.0000 - _runtime: 222.0000\n",
      "Epoch 22/100\n",
      "8/8 [==============================] - 0s 5ms/step - loss: 0.5206 - accuracy: 0.7670 - val_loss: 0.7395 - val_accuracy: 0.5190 - _timestamp: 1654319268.0000 - _runtime: 222.0000\n",
      "Epoch 23/100\n",
      "8/8 [==============================] - 0s 5ms/step - loss: 0.4926 - accuracy: 0.8020 - val_loss: 0.7503 - val_accuracy: 0.5190 - _timestamp: 1654319268.0000 - _runtime: 222.0000\n",
      "Epoch 24/100\n",
      "8/8 [==============================] - 0s 7ms/step - loss: 0.4924 - accuracy: 0.7750 - val_loss: 0.7893 - val_accuracy: 0.5100 - _timestamp: 1654319268.0000 - _runtime: 222.0000\n",
      "Epoch 25/100\n",
      "8/8 [==============================] - 0s 5ms/step - loss: 0.4751 - accuracy: 0.8080 - val_loss: 0.7555 - val_accuracy: 0.5270 - _timestamp: 1654319268.0000 - _runtime: 222.0000\n",
      "Epoch 26/100\n",
      "8/8 [==============================] - 0s 5ms/step - loss: 0.4459 - accuracy: 0.8430 - val_loss: 0.7850 - val_accuracy: 0.5330 - _timestamp: 1654319268.0000 - _runtime: 222.0000\n",
      "Epoch 27/100\n",
      "8/8 [==============================] - 0s 5ms/step - loss: 0.4325 - accuracy: 0.8330 - val_loss: 0.8317 - val_accuracy: 0.5090 - _timestamp: 1654319268.0000 - _runtime: 222.0000\n",
      "Epoch 28/100\n",
      "8/8 [==============================] - 0s 5ms/step - loss: 0.4266 - accuracy: 0.8140 - val_loss: 0.8052 - val_accuracy: 0.5350 - _timestamp: 1654319268.0000 - _runtime: 222.0000\n",
      "Epoch 29/100\n",
      "8/8 [==============================] - 0s 7ms/step - loss: 0.4172 - accuracy: 0.8240 - val_loss: 0.8089 - val_accuracy: 0.5270 - _timestamp: 1654319268.0000 - _runtime: 222.0000\n",
      "Epoch 30/100\n",
      "8/8 [==============================] - 0s 5ms/step - loss: 0.3857 - accuracy: 0.8580 - val_loss: 0.8089 - val_accuracy: 0.5260 - _timestamp: 1654319268.0000 - _runtime: 222.0000\n",
      "Epoch 31/100\n",
      "8/8 [==============================] - 0s 5ms/step - loss: 0.3557 - accuracy: 0.8980 - val_loss: 0.8266 - val_accuracy: 0.5340 - _timestamp: 1654319268.0000 - _runtime: 222.0000\n",
      "Epoch 32/100\n",
      "8/8 [==============================] - 0s 5ms/step - loss: 0.3565 - accuracy: 0.8720 - val_loss: 0.8651 - val_accuracy: 0.5330 - _timestamp: 1654319268.0000 - _runtime: 222.0000\n",
      "Epoch 33/100\n",
      "8/8 [==============================] - 0s 5ms/step - loss: 0.3600 - accuracy: 0.8570 - val_loss: 0.8424 - val_accuracy: 0.5270 - _timestamp: 1654319268.0000 - _runtime: 222.0000\n",
      "Epoch 34/100\n",
      "8/8 [==============================] - 0s 5ms/step - loss: 0.3505 - accuracy: 0.8730 - val_loss: 0.8534 - val_accuracy: 0.5320 - _timestamp: 1654319268.0000 - _runtime: 222.0000\n",
      "Epoch 35/100\n",
      "8/8 [==============================] - 0s 5ms/step - loss: 0.3238 - accuracy: 0.8990 - val_loss: 0.8519 - val_accuracy: 0.5320 - _timestamp: 1654319268.0000 - _runtime: 222.0000\n",
      "Epoch 36/100\n",
      "8/8 [==============================] - 0s 6ms/step - loss: 0.3021 - accuracy: 0.9010 - val_loss: 0.9058 - val_accuracy: 0.5370 - _timestamp: 1654319268.0000 - _runtime: 222.0000\n",
      "Epoch 37/100\n",
      "8/8 [==============================] - 0s 5ms/step - loss: 0.3077 - accuracy: 0.8890 - val_loss: 0.8908 - val_accuracy: 0.5280 - _timestamp: 1654319268.0000 - _runtime: 222.0000\n",
      "Epoch 38/100\n",
      "8/8 [==============================] - 0s 5ms/step - loss: 0.2673 - accuracy: 0.9330 - val_loss: 0.9057 - val_accuracy: 0.5270 - _timestamp: 1654319269.0000 - _runtime: 223.0000\n",
      "Epoch 39/100\n",
      "8/8 [==============================] - 0s 5ms/step - loss: 0.3003 - accuracy: 0.9010 - val_loss: 0.9336 - val_accuracy: 0.5320 - _timestamp: 1654319269.0000 - _runtime: 223.0000\n",
      "Epoch 40/100\n",
      "8/8 [==============================] - 0s 5ms/step - loss: 0.2647 - accuracy: 0.9190 - val_loss: 0.9672 - val_accuracy: 0.5330 - _timestamp: 1654319269.0000 - _runtime: 223.0000\n",
      "Epoch 41/100\n",
      "8/8 [==============================] - 0s 5ms/step - loss: 0.2546 - accuracy: 0.9300 - val_loss: 0.9623 - val_accuracy: 0.5390 - _timestamp: 1654319269.0000 - _runtime: 223.0000\n",
      "Epoch 42/100\n",
      "8/8 [==============================] - 0s 6ms/step - loss: 0.2406 - accuracy: 0.9390 - val_loss: 0.9914 - val_accuracy: 0.5420 - _timestamp: 1654319269.0000 - _runtime: 223.0000\n",
      "Epoch 43/100\n",
      "8/8 [==============================] - 0s 5ms/step - loss: 0.2377 - accuracy: 0.9290 - val_loss: 0.9865 - val_accuracy: 0.5350 - _timestamp: 1654319269.0000 - _runtime: 223.0000\n"
     ]
    },
    {
     "name": "stdout",
     "output_type": "stream",
     "text": [
      "Epoch 44/100\n",
      "8/8 [==============================] - 0s 5ms/step - loss: 0.2265 - accuracy: 0.9450 - val_loss: 1.0623 - val_accuracy: 0.5310 - _timestamp: 1654319269.0000 - _runtime: 223.0000\n",
      "Epoch 45/100\n",
      "8/8 [==============================] - 0s 5ms/step - loss: 0.2157 - accuracy: 0.9450 - val_loss: 1.0220 - val_accuracy: 0.5300 - _timestamp: 1654319269.0000 - _runtime: 223.0000\n",
      "Epoch 46/100\n",
      "8/8 [==============================] - 0s 5ms/step - loss: 0.2077 - accuracy: 0.9460 - val_loss: 1.0271 - val_accuracy: 0.5440 - _timestamp: 1654319269.0000 - _runtime: 223.0000\n",
      "Epoch 47/100\n",
      "8/8 [==============================] - 0s 5ms/step - loss: 0.1980 - accuracy: 0.9510 - val_loss: 1.0303 - val_accuracy: 0.5270 - _timestamp: 1654319269.0000 - _runtime: 223.0000\n",
      "Epoch 48/100\n",
      "8/8 [==============================] - 0s 5ms/step - loss: 0.1784 - accuracy: 0.9640 - val_loss: 1.1081 - val_accuracy: 0.5220 - _timestamp: 1654319269.0000 - _runtime: 223.0000\n",
      "Epoch 49/100\n",
      "8/8 [==============================] - 0s 5ms/step - loss: 0.1810 - accuracy: 0.9580 - val_loss: 1.1031 - val_accuracy: 0.5090 - _timestamp: 1654319269.0000 - _runtime: 223.0000\n",
      "Epoch 50/100\n",
      "8/8 [==============================] - 0s 5ms/step - loss: 0.1671 - accuracy: 0.9670 - val_loss: 1.1488 - val_accuracy: 0.5160 - _timestamp: 1654319269.0000 - _runtime: 223.0000\n",
      "Epoch 51/100\n",
      "8/8 [==============================] - 0s 5ms/step - loss: 0.1637 - accuracy: 0.9740 - val_loss: 1.1043 - val_accuracy: 0.5140 - _timestamp: 1654319269.0000 - _runtime: 223.0000\n",
      "Epoch 52/100\n",
      "8/8 [==============================] - 0s 5ms/step - loss: 0.1596 - accuracy: 0.9730 - val_loss: 1.1556 - val_accuracy: 0.5120 - _timestamp: 1654319269.0000 - _runtime: 223.0000\n",
      "Epoch 53/100\n",
      "8/8 [==============================] - 0s 5ms/step - loss: 0.1511 - accuracy: 0.9760 - val_loss: 1.1499 - val_accuracy: 0.5130 - _timestamp: 1654319269.0000 - _runtime: 223.0000\n",
      "Epoch 54/100\n",
      "8/8 [==============================] - 0s 4ms/step - loss: 0.1527 - accuracy: 0.9710 - val_loss: 1.1664 - val_accuracy: 0.5130 - _timestamp: 1654319269.0000 - _runtime: 223.0000\n",
      "Epoch 55/100\n",
      "8/8 [==============================] - 0s 5ms/step - loss: 0.1361 - accuracy: 0.9820 - val_loss: 1.1765 - val_accuracy: 0.5250 - _timestamp: 1654319269.0000 - _runtime: 223.0000\n",
      "Epoch 56/100\n",
      "8/8 [==============================] - 0s 5ms/step - loss: 0.1371 - accuracy: 0.9780 - val_loss: 1.2184 - val_accuracy: 0.5140 - _timestamp: 1654319269.0000 - _runtime: 223.0000\n",
      "Epoch 57/100\n",
      "8/8 [==============================] - 0s 5ms/step - loss: 0.1292 - accuracy: 0.9830 - val_loss: 1.2183 - val_accuracy: 0.5120 - _timestamp: 1654319269.0000 - _runtime: 223.0000\n",
      "Epoch 58/100\n",
      "8/8 [==============================] - 0s 4ms/step - loss: 0.1229 - accuracy: 0.9800 - val_loss: 1.2588 - val_accuracy: 0.5060 - _timestamp: 1654319269.0000 - _runtime: 223.0000\n",
      "Epoch 59/100\n",
      "8/8 [==============================] - 0s 4ms/step - loss: 0.1104 - accuracy: 0.9860 - val_loss: 1.2540 - val_accuracy: 0.5120 - _timestamp: 1654319269.0000 - _runtime: 223.0000\n",
      "Epoch 60/100\n",
      "8/8 [==============================] - 0s 5ms/step - loss: 0.1117 - accuracy: 0.9870 - val_loss: 1.2803 - val_accuracy: 0.5150 - _timestamp: 1654319269.0000 - _runtime: 223.0000\n",
      "Epoch 61/100\n",
      "8/8 [==============================] - 0s 5ms/step - loss: 0.1066 - accuracy: 0.9920 - val_loss: 1.2947 - val_accuracy: 0.5110 - _timestamp: 1654319269.0000 - _runtime: 223.0000\n",
      "Epoch 62/100\n",
      "8/8 [==============================] - 0s 7ms/step - loss: 0.0989 - accuracy: 0.9900 - val_loss: 1.3061 - val_accuracy: 0.5090 - _timestamp: 1654319269.0000 - _runtime: 223.0000\n",
      "Epoch 63/100\n",
      "8/8 [==============================] - 0s 4ms/step - loss: 0.0840 - accuracy: 0.9950 - val_loss: 1.3312 - val_accuracy: 0.5410 - _timestamp: 1654319269.0000 - _runtime: 223.0000\n",
      "Epoch 64/100\n",
      "8/8 [==============================] - 0s 4ms/step - loss: 0.0902 - accuracy: 0.9960 - val_loss: 1.3300 - val_accuracy: 0.5360 - _timestamp: 1654319270.0000 - _runtime: 224.0000\n",
      "Epoch 65/100\n",
      "8/8 [==============================] - 0s 5ms/step - loss: 0.0845 - accuracy: 0.9960 - val_loss: 1.3704 - val_accuracy: 0.5410 - _timestamp: 1654319270.0000 - _runtime: 224.0000\n",
      "Epoch 66/100\n",
      "8/8 [==============================] - 0s 5ms/step - loss: 0.0838 - accuracy: 0.9910 - val_loss: 1.3606 - val_accuracy: 0.5360 - _timestamp: 1654319270.0000 - _runtime: 224.0000\n",
      "Epoch 67/100\n",
      "8/8 [==============================] - 0s 5ms/step - loss: 0.0778 - accuracy: 0.9950 - val_loss: 1.3637 - val_accuracy: 0.5320 - _timestamp: 1654319270.0000 - _runtime: 224.0000\n",
      "Epoch 68/100\n",
      "8/8 [==============================] - 0s 5ms/step - loss: 0.0735 - accuracy: 0.9970 - val_loss: 1.4041 - val_accuracy: 0.5430 - _timestamp: 1654319270.0000 - _runtime: 224.0000\n",
      "Epoch 69/100\n",
      "8/8 [==============================] - 0s 5ms/step - loss: 0.0716 - accuracy: 0.9970 - val_loss: 1.3928 - val_accuracy: 0.5290 - _timestamp: 1654319270.0000 - _runtime: 224.0000\n",
      "Epoch 70/100\n",
      "8/8 [==============================] - 0s 5ms/step - loss: 0.0596 - accuracy: 0.9990 - val_loss: 1.4415 - val_accuracy: 0.5240 - _timestamp: 1654319270.0000 - _runtime: 224.0000\n",
      "Epoch 71/100\n",
      "8/8 [==============================] - 0s 5ms/step - loss: 0.0700 - accuracy: 0.9940 - val_loss: 1.4975 - val_accuracy: 0.5110 - _timestamp: 1654319270.0000 - _runtime: 224.0000\n",
      "Epoch 72/100\n",
      "8/8 [==============================] - 0s 5ms/step - loss: 0.0664 - accuracy: 0.9980 - val_loss: 1.4667 - val_accuracy: 0.5100 - _timestamp: 1654319270.0000 - _runtime: 224.0000\n",
      "Epoch 73/100\n",
      "8/8 [==============================] - 0s 5ms/step - loss: 0.0583 - accuracy: 0.9990 - val_loss: 1.5053 - val_accuracy: 0.5080 - _timestamp: 1654319270.0000 - _runtime: 224.0000\n",
      "Epoch 74/100\n",
      "8/8 [==============================] - 0s 5ms/step - loss: 0.0621 - accuracy: 0.9970 - val_loss: 1.5131 - val_accuracy: 0.5220 - _timestamp: 1654319270.0000 - _runtime: 224.0000\n",
      "Epoch 75/100\n",
      "8/8 [==============================] - 0s 5ms/step - loss: 0.0477 - accuracy: 0.9980 - val_loss: 1.5159 - val_accuracy: 0.5210 - _timestamp: 1654319270.0000 - _runtime: 224.0000\n",
      "Epoch 76/100\n",
      "8/8 [==============================] - 0s 5ms/step - loss: 0.0493 - accuracy: 0.9980 - val_loss: 1.5739 - val_accuracy: 0.5180 - _timestamp: 1654319270.0000 - _runtime: 224.0000\n",
      "Epoch 77/100\n",
      "8/8 [==============================] - 0s 5ms/step - loss: 0.0549 - accuracy: 0.9990 - val_loss: 1.5673 - val_accuracy: 0.5100 - _timestamp: 1654319270.0000 - _runtime: 224.0000\n",
      "Epoch 78/100\n",
      "8/8 [==============================] - 0s 5ms/step - loss: 0.0441 - accuracy: 0.9990 - val_loss: 1.5822 - val_accuracy: 0.5180 - _timestamp: 1654319270.0000 - _runtime: 224.0000\n",
      "Epoch 79/100\n",
      "8/8 [==============================] - 0s 5ms/step - loss: 0.0364 - accuracy: 1.0000 - val_loss: 1.5664 - val_accuracy: 0.5190 - _timestamp: 1654319270.0000 - _runtime: 224.0000\n",
      "Epoch 80/100\n",
      "8/8 [==============================] - 0s 5ms/step - loss: 0.0381 - accuracy: 0.9990 - val_loss: 1.6515 - val_accuracy: 0.5120 - _timestamp: 1654319270.0000 - _runtime: 224.0000\n",
      "Epoch 81/100\n",
      "8/8 [==============================] - 0s 7ms/step - loss: 0.0435 - accuracy: 1.0000 - val_loss: 1.6317 - val_accuracy: 0.5150 - _timestamp: 1654319270.0000 - _runtime: 224.0000\n",
      "Epoch 82/100\n",
      "8/8 [==============================] - 0s 5ms/step - loss: 0.0338 - accuracy: 1.0000 - val_loss: 1.6063 - val_accuracy: 0.5180 - _timestamp: 1654319270.0000 - _runtime: 224.0000\n",
      "Epoch 83/100\n",
      "8/8 [==============================] - 0s 5ms/step - loss: 0.0295 - accuracy: 1.0000 - val_loss: 1.6613 - val_accuracy: 0.5460 - _timestamp: 1654319270.0000 - _runtime: 224.0000\n",
      "Epoch 84/100\n",
      "8/8 [==============================] - 0s 4ms/step - loss: 0.0378 - accuracy: 1.0000 - val_loss: 1.6529 - val_accuracy: 0.5370 - _timestamp: 1654319270.0000 - _runtime: 224.0000\n",
      "Epoch 85/100\n",
      "8/8 [==============================] - 0s 5ms/step - loss: 0.0362 - accuracy: 1.0000 - val_loss: 1.6503 - val_accuracy: 0.5320 - _timestamp: 1654319270.0000 - _runtime: 224.0000\n",
      "Epoch 86/100\n",
      "8/8 [==============================] - 0s 5ms/step - loss: 0.0248 - accuracy: 1.0000 - val_loss: 1.6890 - val_accuracy: 0.5210 - _timestamp: 1654319270.0000 - _runtime: 224.0000\n"
     ]
    },
    {
     "name": "stdout",
     "output_type": "stream",
     "text": [
      "Epoch 87/100\n",
      "8/8 [==============================] - 0s 5ms/step - loss: 0.0224 - accuracy: 1.0000 - val_loss: 1.7183 - val_accuracy: 0.5220 - _timestamp: 1654319270.0000 - _runtime: 224.0000\n",
      "Epoch 88/100\n",
      "8/8 [==============================] - 0s 5ms/step - loss: 0.0315 - accuracy: 1.0000 - val_loss: 1.7599 - val_accuracy: 0.5150 - _timestamp: 1654319270.0000 - _runtime: 224.0000\n",
      "Epoch 89/100\n",
      "8/8 [==============================] - 0s 5ms/step - loss: 0.0305 - accuracy: 1.0000 - val_loss: 1.8027 - val_accuracy: 0.5080 - _timestamp: 1654319271.0000 - _runtime: 225.0000\n",
      "Epoch 90/100\n",
      "8/8 [==============================] - 0s 5ms/step - loss: 0.0220 - accuracy: 1.0000 - val_loss: 1.7434 - val_accuracy: 0.5180 - _timestamp: 1654319271.0000 - _runtime: 225.0000\n",
      "Epoch 91/100\n",
      "8/8 [==============================] - 0s 5ms/step - loss: 0.0189 - accuracy: 1.0000 - val_loss: 1.7807 - val_accuracy: 0.5260 - _timestamp: 1654319271.0000 - _runtime: 225.0000\n",
      "Epoch 92/100\n",
      "8/8 [==============================] - 0s 5ms/step - loss: 0.0179 - accuracy: 1.0000 - val_loss: 1.7883 - val_accuracy: 0.5190 - _timestamp: 1654319271.0000 - _runtime: 225.0000\n",
      "Epoch 93/100\n",
      "8/8 [==============================] - 0s 5ms/step - loss: 0.0170 - accuracy: 1.0000 - val_loss: 1.8174 - val_accuracy: 0.5180 - _timestamp: 1654319271.0000 - _runtime: 225.0000\n",
      "Epoch 94/100\n",
      "8/8 [==============================] - 0s 5ms/step - loss: 0.0174 - accuracy: 1.0000 - val_loss: 1.8302 - val_accuracy: 0.5180 - _timestamp: 1654319271.0000 - _runtime: 225.0000\n",
      "Epoch 95/100\n",
      "8/8 [==============================] - 0s 7ms/step - loss: 0.0185 - accuracy: 1.0000 - val_loss: 1.8294 - val_accuracy: 0.5110 - _timestamp: 1654319271.0000 - _runtime: 225.0000\n",
      "Epoch 96/100\n",
      "8/8 [==============================] - 0s 5ms/step - loss: 0.0150 - accuracy: 1.0000 - val_loss: 1.8655 - val_accuracy: 0.5170 - _timestamp: 1654319271.0000 - _runtime: 225.0000\n",
      "Epoch 97/100\n",
      "8/8 [==============================] - 0s 5ms/step - loss: 0.0149 - accuracy: 1.0000 - val_loss: 1.8564 - val_accuracy: 0.5230 - _timestamp: 1654319271.0000 - _runtime: 225.0000\n",
      "Epoch 98/100\n",
      "8/8 [==============================] - 0s 5ms/step - loss: 0.0153 - accuracy: 1.0000 - val_loss: 1.8691 - val_accuracy: 0.5190 - _timestamp: 1654319271.0000 - _runtime: 225.0000\n",
      "Epoch 99/100\n",
      "8/8 [==============================] - 0s 5ms/step - loss: 0.0132 - accuracy: 1.0000 - val_loss: 1.8936 - val_accuracy: 0.5130 - _timestamp: 1654319271.0000 - _runtime: 225.0000\n",
      "Epoch 100/100\n",
      "8/8 [==============================] - 0s 5ms/step - loss: 0.0138 - accuracy: 1.0000 - val_loss: 1.9054 - val_accuracy: 0.5240 - _timestamp: 1654319271.0000 - _runtime: 225.0000\n",
      "32/32 [==============================] - 0s 739us/step\n"
     ]
    },
    {
     "data": {
      "text/plain": [
       "<keras.callbacks.History at 0x7fdddd28f310>"
      ]
     },
     "execution_count": 30,
     "metadata": {},
     "output_type": "execute_result"
    }
   ],
   "source": [
    "model.fit(x=fake_data, y=fake_labels,\n",
    "          epochs=wandb.config['epochs'], batch_size=wandb.config['batch_size'], \n",
    "          verbose='auto', \n",
    "          validation_data=(fake_data_val, fake_labels_val),\n",
    "          callbacks=[logging_callback]\n",
    "         )"
   ]
  },
  {
   "cell_type": "markdown",
   "id": "1330bed6",
   "metadata": {},
   "source": [
    "## PyTorch"
   ]
  },
  {
   "cell_type": "code",
   "execution_count": 31,
   "id": "2af59350",
   "metadata": {},
   "outputs": [
    {
     "name": "stdout",
     "output_type": "stream",
     "text": [
      "Collecting pytorch-lightning\n",
      "  Downloading pytorch_lightning-1.6.4-py3-none-any.whl (585 kB)\n",
      "\u001b[2K     \u001b[90m━━━━━━━━━━━━━━━━━━━━━━━━━━━━━━━━━━━━━━━\u001b[0m \u001b[32m585.5/585.5 kB\u001b[0m \u001b[31m4.0 MB/s\u001b[0m eta \u001b[36m0:00:00\u001b[0m00:01\u001b[0m00:01\u001b[0m\n",
      "\u001b[?25hRequirement already satisfied: fsspec[http]!=2021.06.0,>=2021.05.0 in ./opt/anaconda3/envs/BookML/lib/python3.7/site-packages (from pytorch-lightning) (2022.1.0)\n",
      "Requirement already satisfied: tqdm>=4.57.0 in ./opt/anaconda3/envs/BookML/lib/python3.7/site-packages (from pytorch-lightning) (4.62.3)\n",
      "Requirement already satisfied: PyYAML>=5.4 in ./opt/anaconda3/envs/BookML/lib/python3.7/site-packages (from pytorch-lightning) (6.0)\n",
      "Collecting torchmetrics>=0.4.1\n",
      "  Downloading torchmetrics-0.9.0-py3-none-any.whl (418 kB)\n",
      "\u001b[2K     \u001b[90m━━━━━━━━━━━━━━━━━━━━━━━━━━━━━━━━━━━━━━━\u001b[0m \u001b[32m418.2/418.2 kB\u001b[0m \u001b[31m7.5 MB/s\u001b[0m eta \u001b[36m0:00:00\u001b[0m00:01\u001b[0m\n",
      "\u001b[?25hRequirement already satisfied: packaging>=17.0 in ./opt/anaconda3/envs/BookML/lib/python3.7/site-packages (from pytorch-lightning) (21.3)\n",
      "Requirement already satisfied: numpy>=1.17.2 in ./opt/anaconda3/envs/BookML/lib/python3.7/site-packages (from pytorch-lightning) (1.21.6)\n",
      "Collecting pyDeprecate>=0.3.1\n",
      "  Downloading pyDeprecate-0.3.2-py3-none-any.whl (10 kB)\n",
      "Requirement already satisfied: tensorboard>=2.2.0 in ./opt/anaconda3/envs/BookML/lib/python3.7/site-packages (from pytorch-lightning) (2.9.0)\n",
      "Collecting typing-extensions>=4.0.0\n",
      "  Downloading typing_extensions-4.2.0-py3-none-any.whl (24 kB)\n",
      "Requirement already satisfied: torch>=1.8.* in ./opt/anaconda3/envs/BookML/lib/python3.7/site-packages (from pytorch-lightning) (1.10.2)\n",
      "Requirement already satisfied: protobuf<=3.20.1 in ./opt/anaconda3/envs/BookML/lib/python3.7/site-packages (from pytorch-lightning) (3.19.4)\n",
      "Requirement already satisfied: aiohttp in ./opt/anaconda3/envs/BookML/lib/python3.7/site-packages (from fsspec[http]!=2021.06.0,>=2021.05.0->pytorch-lightning) (3.8.1)\n",
      "Requirement already satisfied: requests in ./opt/anaconda3/envs/BookML/lib/python3.7/site-packages (from fsspec[http]!=2021.06.0,>=2021.05.0->pytorch-lightning) (2.27.1)\n",
      "Requirement already satisfied: pyparsing!=3.0.5,>=2.0.2 in ./opt/anaconda3/envs/BookML/lib/python3.7/site-packages (from packaging>=17.0->pytorch-lightning) (3.0.7)\n",
      "Requirement already satisfied: werkzeug>=1.0.1 in ./opt/anaconda3/envs/BookML/lib/python3.7/site-packages (from tensorboard>=2.2.0->pytorch-lightning) (2.0.3)\n",
      "Requirement already satisfied: grpcio>=1.24.3 in ./opt/anaconda3/envs/BookML/lib/python3.7/site-packages (from tensorboard>=2.2.0->pytorch-lightning) (1.46.3)\n",
      "Requirement already satisfied: google-auth-oauthlib<0.5,>=0.4.1 in ./opt/anaconda3/envs/BookML/lib/python3.7/site-packages (from tensorboard>=2.2.0->pytorch-lightning) (0.4.6)\n",
      "Requirement already satisfied: google-auth<3,>=1.6.3 in ./opt/anaconda3/envs/BookML/lib/python3.7/site-packages (from tensorboard>=2.2.0->pytorch-lightning) (2.6.6)\n",
      "Requirement already satisfied: wheel>=0.26 in ./opt/anaconda3/envs/BookML/lib/python3.7/site-packages (from tensorboard>=2.2.0->pytorch-lightning) (0.37.0)\n",
      "Requirement already satisfied: absl-py>=0.4 in ./opt/anaconda3/envs/BookML/lib/python3.7/site-packages (from tensorboard>=2.2.0->pytorch-lightning) (1.1.0)\n",
      "Requirement already satisfied: markdown>=2.6.8 in ./opt/anaconda3/envs/BookML/lib/python3.7/site-packages (from tensorboard>=2.2.0->pytorch-lightning) (3.3.4)\n",
      "Requirement already satisfied: setuptools>=41.0.0 in ./opt/anaconda3/envs/BookML/lib/python3.7/site-packages (from tensorboard>=2.2.0->pytorch-lightning) (62.3.2)\n",
      "Requirement already satisfied: tensorboard-plugin-wit>=1.6.0 in ./opt/anaconda3/envs/BookML/lib/python3.7/site-packages (from tensorboard>=2.2.0->pytorch-lightning) (1.8.1)\n",
      "Requirement already satisfied: tensorboard-data-server<0.7.0,>=0.6.0 in ./opt/anaconda3/envs/BookML/lib/python3.7/site-packages (from tensorboard>=2.2.0->pytorch-lightning) (0.6.1)\n",
      "Requirement already satisfied: cachetools<6.0,>=2.0.0 in ./opt/anaconda3/envs/BookML/lib/python3.7/site-packages (from google-auth<3,>=1.6.3->tensorboard>=2.2.0->pytorch-lightning) (5.0.0)\n",
      "Requirement already satisfied: pyasn1-modules>=0.2.1 in ./opt/anaconda3/envs/BookML/lib/python3.7/site-packages (from google-auth<3,>=1.6.3->tensorboard>=2.2.0->pytorch-lightning) (0.2.8)\n",
      "Requirement already satisfied: rsa<5,>=3.1.4 in ./opt/anaconda3/envs/BookML/lib/python3.7/site-packages (from google-auth<3,>=1.6.3->tensorboard>=2.2.0->pytorch-lightning) (4.8)\n",
      "Requirement already satisfied: six>=1.9.0 in ./opt/anaconda3/envs/BookML/lib/python3.7/site-packages (from google-auth<3,>=1.6.3->tensorboard>=2.2.0->pytorch-lightning) (1.16.0)\n",
      "Requirement already satisfied: requests-oauthlib>=0.7.0 in ./opt/anaconda3/envs/BookML/lib/python3.7/site-packages (from google-auth-oauthlib<0.5,>=0.4.1->tensorboard>=2.2.0->pytorch-lightning) (1.3.1)\n",
      "Requirement already satisfied: importlib-metadata in ./opt/anaconda3/envs/BookML/lib/python3.7/site-packages (from markdown>=2.6.8->tensorboard>=2.2.0->pytorch-lightning) (3.10.0)\n",
      "Requirement already satisfied: charset-normalizer~=2.0.0 in ./opt/anaconda3/envs/BookML/lib/python3.7/site-packages (from requests->fsspec[http]!=2021.06.0,>=2021.05.0->pytorch-lightning) (2.0.12)\n",
      "Requirement already satisfied: idna<4,>=2.5 in ./opt/anaconda3/envs/BookML/lib/python3.7/site-packages (from requests->fsspec[http]!=2021.06.0,>=2021.05.0->pytorch-lightning) (3.3)\n",
      "Requirement already satisfied: urllib3<1.27,>=1.21.1 in ./opt/anaconda3/envs/BookML/lib/python3.7/site-packages (from requests->fsspec[http]!=2021.06.0,>=2021.05.0->pytorch-lightning) (1.26.8)\n",
      "Requirement already satisfied: certifi>=2017.4.17 in ./opt/anaconda3/envs/BookML/lib/python3.7/site-packages (from requests->fsspec[http]!=2021.06.0,>=2021.05.0->pytorch-lightning) (2021.10.8)\n",
      "Requirement already satisfied: attrs>=17.3.0 in ./opt/anaconda3/envs/BookML/lib/python3.7/site-packages (from aiohttp->fsspec[http]!=2021.06.0,>=2021.05.0->pytorch-lightning) (20.3.0)\n",
      "Requirement already satisfied: frozenlist>=1.1.1 in ./opt/anaconda3/envs/BookML/lib/python3.7/site-packages (from aiohttp->fsspec[http]!=2021.06.0,>=2021.05.0->pytorch-lightning) (1.3.0)\n",
      "Requirement already satisfied: asynctest==0.13.0 in ./opt/anaconda3/envs/BookML/lib/python3.7/site-packages (from aiohttp->fsspec[http]!=2021.06.0,>=2021.05.0->pytorch-lightning) (0.13.0)\n",
      "Requirement already satisfied: yarl<2.0,>=1.0 in ./opt/anaconda3/envs/BookML/lib/python3.7/site-packages (from aiohttp->fsspec[http]!=2021.06.0,>=2021.05.0->pytorch-lightning) (1.7.2)\n",
      "Requirement already satisfied: multidict<7.0,>=4.5 in ./opt/anaconda3/envs/BookML/lib/python3.7/site-packages (from aiohttp->fsspec[http]!=2021.06.0,>=2021.05.0->pytorch-lightning) (6.0.2)\n",
      "Requirement already satisfied: async-timeout<5.0,>=4.0.0a3 in ./opt/anaconda3/envs/BookML/lib/python3.7/site-packages (from aiohttp->fsspec[http]!=2021.06.0,>=2021.05.0->pytorch-lightning) (4.0.2)\n",
      "Requirement already satisfied: aiosignal>=1.1.2 in ./opt/anaconda3/envs/BookML/lib/python3.7/site-packages (from aiohttp->fsspec[http]!=2021.06.0,>=2021.05.0->pytorch-lightning) (1.2.0)\n",
      "Requirement already satisfied: pyasn1<0.5.0,>=0.4.6 in ./opt/anaconda3/envs/BookML/lib/python3.7/site-packages (from pyasn1-modules>=0.2.1->google-auth<3,>=1.6.3->tensorboard>=2.2.0->pytorch-lightning) (0.4.8)\n",
      "Requirement already satisfied: oauthlib>=3.0.0 in ./opt/anaconda3/envs/BookML/lib/python3.7/site-packages (from requests-oauthlib>=0.7.0->google-auth-oauthlib<0.5,>=0.4.1->tensorboard>=2.2.0->pytorch-lightning) (3.2.0)\n",
      "Requirement already satisfied: zipp>=0.5 in ./opt/anaconda3/envs/BookML/lib/python3.7/site-packages (from importlib-metadata->markdown>=2.6.8->tensorboard>=2.2.0->pytorch-lightning) (3.5.0)\n",
      "Installing collected packages: typing-extensions, pyDeprecate, torchmetrics, pytorch-lightning\n",
      "  Attempting uninstall: typing-extensions\n",
      "    Found existing installation: typing-extensions 3.7.4.3\n",
      "    Uninstalling typing-extensions-3.7.4.3:\n",
      "      Successfully uninstalled typing-extensions-3.7.4.3\n",
      "Successfully installed pyDeprecate-0.3.2 pytorch-lightning-1.6.4 torchmetrics-0.9.0 typing-extensions-4.2.0\n",
      "Note: you may need to restart the kernel to use updated packages.\n"
     ]
    }
   ],
   "source": [
    "pip install pytorch-lightning"
   ]
  },
  {
   "cell_type": "code",
   "execution_count": 32,
   "id": "f520f842",
   "metadata": {},
   "outputs": [
    {
     "name": "stdout",
     "output_type": "stream",
     "text": [
      "Extension horovod.torch has not been built: /Users/tpalczew/opt/anaconda3/envs/BookML/lib/python3.7/site-packages/horovod/torch/mpi_lib/_mpi_lib.cpython-37m-darwin.so not found\n",
      "If this is not expected, reinstall Horovod with HOROVOD_WITH_PYTORCH=1 to debug the build error.\n",
      "Warning! MPI libs are missing, but python applications are still avaiable.\n"
     ]
    }
   ],
   "source": [
    "import pytorch_lightning as pl\n",
    "from pytorch_lightning.loggers import WandbLogger"
   ]
  },
  {
   "cell_type": "code",
   "execution_count": 33,
   "id": "7561c073",
   "metadata": {},
   "outputs": [
    {
     "name": "stderr",
     "output_type": "stream",
     "text": [
      "/Users/tpalczew/opt/anaconda3/envs/BookML/lib/python3.7/site-packages/pytorch_lightning/loggers/wandb.py:348: UserWarning: There is a wandb run already in progress and newly created instances of `WandbLogger` will reuse this run. If this is not desired, call `wandb.finish()` before instantiating `WandbLogger`.\n",
      "  \"There is a wandb run already in progress and newly created instances of `WandbLogger` will reuse\"\n"
     ]
    }
   ],
   "source": [
    "wandb_logger = WandbLogger(project=\"example-DL-Book\", name=\"run-2\", entity=\"tpalczew\")"
   ]
  },
  {
   "cell_type": "code",
   "execution_count": 37,
   "id": "32c7ea7d",
   "metadata": {},
   "outputs": [
    {
     "data": {
      "text/html": [
       "Changes to your `wandb` environment variables will be ignored because your `wandb` session has already started. For more information on how to modify your settings with `wandb.init()` arguments, please refer to <a href=\"https://wandb.me/wandb-init\" target=\"_blank\">the W&B docs</a>."
      ],
      "text/plain": [
       "<IPython.core.display.HTML object>"
      ]
     },
     "metadata": {},
     "output_type": "display_data"
    },
    {
     "data": {
      "text/html": [
       "Finishing last run (ID:1d70brtn) before initializing another..."
      ],
      "text/plain": [
       "<IPython.core.display.HTML object>"
      ]
     },
     "metadata": {},
     "output_type": "display_data"
    },
    {
     "data": {
      "text/html": [
       "Waiting for W&B process to finish... <strong style=\"color:green\">(success).</strong>"
      ],
      "text/plain": [
       "<IPython.core.display.HTML object>"
      ]
     },
     "metadata": {},
     "output_type": "display_data"
    },
    {
     "data": {
      "application/vnd.jupyter.widget-view+json": {
       "model_id": "",
       "version_major": 2,
       "version_minor": 0
      },
      "text/plain": [
       "VBox(children=(Label(value='0.000 MB of 0.000 MB uploaded (0.000 MB deduped)\\r'), FloatProgress(value=1.0, max…"
      ]
     },
     "metadata": {},
     "output_type": "display_data"
    },
    {
     "data": {
      "text/html": [
       "Synced <strong style=\"color:#cdcd00\">run-2</strong>: <a href=\"https://wandb.ai/tpalczew/example-DL-Book/runs/1d70brtn\" target=\"_blank\">https://wandb.ai/tpalczew/example-DL-Book/runs/1d70brtn</a><br/>Synced 5 W&B file(s), 0 media file(s), 0 artifact file(s) and 0 other file(s)"
      ],
      "text/plain": [
       "<IPython.core.display.HTML object>"
      ]
     },
     "metadata": {},
     "output_type": "display_data"
    },
    {
     "data": {
      "text/html": [
       "Find logs at: <code>./wandb/run-20220603_221214-1d70brtn/logs</code>"
      ],
      "text/plain": [
       "<IPython.core.display.HTML object>"
      ]
     },
     "metadata": {},
     "output_type": "display_data"
    },
    {
     "data": {
      "text/html": [
       "Successfully finished last run (ID:1d70brtn). Initializing new run:<br/>"
      ],
      "text/plain": [
       "<IPython.core.display.HTML object>"
      ]
     },
     "metadata": {},
     "output_type": "display_data"
    },
    {
     "data": {
      "text/html": [
       "Tracking run with wandb version 0.12.17"
      ],
      "text/plain": [
       "<IPython.core.display.HTML object>"
      ]
     },
     "metadata": {},
     "output_type": "display_data"
    },
    {
     "data": {
      "text/html": [
       "Run data is saved locally in <code>/Users/tpalczew/wandb/run-20220603_221442-1mqyiw4l</code>"
      ],
      "text/plain": [
       "<IPython.core.display.HTML object>"
      ]
     },
     "metadata": {},
     "output_type": "display_data"
    },
    {
     "data": {
      "text/html": [
       "Syncing run <strong><a href=\"https://wandb.ai/tpalczew/example-DL-Book/runs/1mqyiw4l\" target=\"_blank\">run-2</a></strong> to <a href=\"https://wandb.ai/tpalczew/example-DL-Book\" target=\"_blank\">Weights & Biases</a> (<a href=\"https://wandb.me/run\" target=\"_blank\">docs</a>)<br/>"
      ],
      "text/plain": [
       "<IPython.core.display.HTML object>"
      ]
     },
     "metadata": {},
     "output_type": "display_data"
    },
    {
     "name": "stderr",
     "output_type": "stream",
     "text": [
      "/Users/tpalczew/opt/anaconda3/envs/BookML/lib/python3.7/site-packages/pytorch_lightning/loops/utilities.py:94: PossibleUserWarning: `max_epochs` was not set. Setting it to 1000 epochs. To train without an epoch limit, set `max_epochs=-1`.\n",
      "  category=PossibleUserWarning,\n",
      "GPU available: False, used: False\n",
      "TPU available: False, using: 0 TPU cores\n",
      "IPU available: False, using: 0 IPUs\n",
      "HPU available: False, using: 0 HPUs\n"
     ]
    }
   ],
   "source": [
    "wandb.init(project=\"example-DL-Book\", name=\"run-2\")\n",
    "wandb.config = {\n",
    "  \"learning_rate\": 0.001,\n",
    "  \"epochs\": 100\n",
    "}\n",
    "\n",
    "wandb_logger = WandbLogger(project=\"example-DL-Book\")\n",
    "trainer = pl.Trainer(logger=wandb_logger)\n",
    "\n",
    "class LitModule(pl.LightningModule):\n",
    "    def __init__(self, *args, **kwarg):\n",
    "        self.save_hyperparameters()\n",
    "\n",
    "    def training_step(self, batch, batch_idx):\n",
    "        self.log(\"train/loss\", loss)"
   ]
  },
  {
   "cell_type": "markdown",
   "id": "f78c0d93",
   "metadata": {},
   "source": [
    "https://wandb.ai/site/articles/pytorch-lightning-with-weights-biases"
   ]
  },
  {
   "cell_type": "code",
   "execution_count": null,
   "id": "2104ef37",
   "metadata": {},
   "outputs": [],
   "source": []
  }
 ],
 "metadata": {
  "kernelspec": {
   "display_name": "Python 3 (ipykernel)",
   "language": "python",
   "name": "python3"
  },
  "language_info": {
   "codemirror_mode": {
    "name": "ipython",
    "version": 3
   },
   "file_extension": ".py",
   "mimetype": "text/x-python",
   "name": "python",
   "nbconvert_exporter": "python",
   "pygments_lexer": "ipython3",
   "version": "3.7.11"
  }
 },
 "nbformat": 4,
 "nbformat_minor": 5
}
