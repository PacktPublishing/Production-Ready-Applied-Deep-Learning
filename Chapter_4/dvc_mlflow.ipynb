{
 "cells": [
  {
   "cell_type": "markdown",
   "id": "9eb557aa",
   "metadata": {},
   "source": [
    "## Introduction to DVC"
   ]
  },
  {
   "cell_type": "markdown",
   "id": "d150a8b8",
   "metadata": {},
   "source": [
    "Managing datasets using DVC require a set of commands to be executed in a specific order:\n",
    "1.\tFirst step is to set up a git repository with DVC\n",
    "```bash\n",
    "git init\n",
    "dvc init\n",
    "git commit -m 'initialize repo'\n",
    "```\n",
    "2.\tNow, we need to configure the remote storage for DVC:\n",
    "```bash\n",
    "dvc remote add -d myremote /tmp/dvc-storage\n",
    "git commit .dvc/config -m 'Added local remote storage'\n",
    "```\n",
    "3.\tLet’s create a sample data directory and fill it with some sample data:\n",
    "```bash\n",
    "mkdir data\n",
    "cp sample_google_scholar data/\n",
    "```\n",
    "4.\tAt this stage, we are ready to start tracking the dataset. We just need to add our file to DVC: This operation will create an additional file, example_data.csv.dvc. In addition, the example_data.csv file gets added to .gitignore automatically so that git no longer tracks the original file.\n",
    "```bash\n",
    "dvc add data/sample_google_scholar.csv\n",
    "```\n",
    "5.\tNext, you need to commit and upload example_data.csv.dvc and .gitignore file. We will tag our first dataset as v1.\n",
    "```bash\n",
    "git add data/.gitignore data/sample_google_scholar.csv.dvc\n",
    "git commit -m 'data tracking'\n",
    "git tag -a 'v1' -m 'test_data'\n",
    "dvc push\n",
    "```\n",
    "6.\tafter dvc.push command, our data will be available on remote storage. We can remove the local version. To restore example_data.csv you can simply call dvc.pull. \n",
    "```bash\n",
    "dvc pull data/sample_google_scholar.csv.dvc\n",
    "```\n",
    "7.\tWhen example_data.csv is modified, we need to add and push again to update the version on the remote storage. We will tag the modified dataset as v2\n",
    "\n",
    "For example we can delete some rows from the csv files or perform other modification. \n",
    "\n",
    "```bash\n",
    "dvc add data/sample_google_scholar.csv\n",
    "git add data/sample_google_scholar.csv.dvc\n",
    "git commit -m 'data modification description'\n",
    "git tag -a 'v2' -m 'modified test_data'\n",
    "dvc push\n",
    "```\n",
    "After executing a set of commends in this section, you will have two versions of the same dataset tracked by git and DVC: v1 and v2.\n"
   ]
  },
  {
   "cell_type": "markdown",
   "id": "9e89812b",
   "metadata": {},
   "source": [
    "## MLflow with DVC "
   ]
  },
  {
   "cell_type": "code",
   "execution_count": 15,
   "id": "00e18cdf",
   "metadata": {},
   "outputs": [],
   "source": [
    "import mlflow\n",
    "import dvc.api\n",
    "import pandas as pd"
   ]
  },
  {
   "cell_type": "code",
   "execution_count": 23,
   "id": "f122946e",
   "metadata": {},
   "outputs": [],
   "source": [
    "data_path='data/sample_google_scholar.csv'\n",
    "repo='/Users/tpalczew/BookDL_demo/'\n",
    "version='v1'\n",
    "\n",
    "data_url=dvc.api.get_url(path=data_path, repo=repo, rev=version)"
   ]
  },
  {
   "cell_type": "code",
   "execution_count": 24,
   "id": "96ac7b52",
   "metadata": {},
   "outputs": [],
   "source": [
    "data = pd.read_csv(data_url)"
   ]
  },
  {
   "cell_type": "code",
   "execution_count": 25,
   "id": "8adf2162",
   "metadata": {},
   "outputs": [
    {
     "data": {
      "text/html": [
       "<div>\n",
       "<style scoped>\n",
       "    .dataframe tbody tr th:only-of-type {\n",
       "        vertical-align: middle;\n",
       "    }\n",
       "\n",
       "    .dataframe tbody tr th {\n",
       "        vertical-align: top;\n",
       "    }\n",
       "\n",
       "    .dataframe thead th {\n",
       "        text-align: right;\n",
       "    }\n",
       "</style>\n",
       "<table border=\"1\" class=\"dataframe\">\n",
       "  <thead>\n",
       "    <tr style=\"text-align: right;\">\n",
       "      <th></th>\n",
       "      <th>author_name</th>\n",
       "      <th>email</th>\n",
       "      <th>affiliation</th>\n",
       "      <th>coauthors_names</th>\n",
       "      <th>research_interest</th>\n",
       "    </tr>\n",
       "  </thead>\n",
       "  <tbody>\n",
       "    <tr>\n",
       "      <th>0</th>\n",
       "      <td>Lawrence Holder</td>\n",
       "      <td>wsu.edu</td>\n",
       "      <td>Washington State University</td>\n",
       "      <td>Diane J Cook##William Eberle</td>\n",
       "      <td>artificial_intelligence##machine_learning##dat...</td>\n",
       "    </tr>\n",
       "    <tr>\n",
       "      <th>1</th>\n",
       "      <td>Dr. Sirisha Velampalli</td>\n",
       "      <td>crraoaimscs.res.in</td>\n",
       "      <td>NaN</td>\n",
       "      <td>William Eberle##Lenin Mookiah</td>\n",
       "      <td>graph_mining##big_data_analytics##machine_lear...</td>\n",
       "    </tr>\n",
       "    <tr>\n",
       "      <th>2</th>\n",
       "      <td>William Eberle</td>\n",
       "      <td>tntech.edu</td>\n",
       "      <td>Tennessee Technological University</td>\n",
       "      <td>NaN</td>\n",
       "      <td>data_mining##anomaly_detection</td>\n",
       "    </tr>\n",
       "    <tr>\n",
       "      <th>3</th>\n",
       "      <td>Diane J Cook</td>\n",
       "      <td>eecs.wsu.edu</td>\n",
       "      <td>Washington State University</td>\n",
       "      <td>Lawrence Holder##Parisa Rashidi##Sajal K. Das#...</td>\n",
       "      <td>artificial_intelligence##machine_learning##sma...</td>\n",
       "    </tr>\n",
       "    <tr>\n",
       "      <th>4</th>\n",
       "      <td>Sumi Helal IEEE Fellow AAAS Fellow IET Fellow ...</td>\n",
       "      <td>cise.ufl.edu</td>\n",
       "      <td>University of Florida</td>\n",
       "      <td>Raja Bose##Darrell Woelk##Diane J Cook##Yousse...</td>\n",
       "      <td>digital_health##smart_homes##internet_of_thing...</td>\n",
       "    </tr>\n",
       "  </tbody>\n",
       "</table>\n",
       "</div>"
      ],
      "text/plain": [
       "                                         author_name               email  \\\n",
       "0                                    Lawrence Holder             wsu.edu   \n",
       "1                             Dr. Sirisha Velampalli  crraoaimscs.res.in   \n",
       "2                                     William Eberle          tntech.edu   \n",
       "3                                       Diane J Cook        eecs.wsu.edu   \n",
       "4  Sumi Helal IEEE Fellow AAAS Fellow IET Fellow ...        cise.ufl.edu   \n",
       "\n",
       "                          affiliation  \\\n",
       "0         Washington State University   \n",
       "1                                 NaN   \n",
       "2  Tennessee Technological University   \n",
       "3         Washington State University   \n",
       "4               University of Florida   \n",
       "\n",
       "                                     coauthors_names  \\\n",
       "0                       Diane J Cook##William Eberle   \n",
       "1                      William Eberle##Lenin Mookiah   \n",
       "2                                                NaN   \n",
       "3  Lawrence Holder##Parisa Rashidi##Sajal K. Das#...   \n",
       "4  Raja Bose##Darrell Woelk##Diane J Cook##Yousse...   \n",
       "\n",
       "                                   research_interest  \n",
       "0  artificial_intelligence##machine_learning##dat...  \n",
       "1  graph_mining##big_data_analytics##machine_lear...  \n",
       "2                     data_mining##anomaly_detection  \n",
       "3  artificial_intelligence##machine_learning##sma...  \n",
       "4  digital_health##smart_homes##internet_of_thing...  "
      ]
     },
     "execution_count": 25,
     "metadata": {},
     "output_type": "execute_result"
    }
   ],
   "source": [
    "data.head()"
   ]
  },
  {
   "cell_type": "markdown",
   "id": "060089ef",
   "metadata": {},
   "source": [
    "We have deleted first three rows from the csv file and following instructions presented above, we have added v5 tag for the new version of the dataset"
   ]
  },
  {
   "cell_type": "code",
   "execution_count": 32,
   "id": "c9f53c03",
   "metadata": {},
   "outputs": [],
   "source": [
    "data_path='data/sample_google_scholar.csv'\n",
    "repo='/Users/tpalczew/BookDL_demo/'\n",
    "version='v5'\n",
    "\n",
    "data_url=dvc.api.get_url(path=data_path, repo=repo, rev=version)"
   ]
  },
  {
   "cell_type": "code",
   "execution_count": 34,
   "id": "d87a44e3",
   "metadata": {},
   "outputs": [
    {
     "data": {
      "text/html": [
       "<div>\n",
       "<style scoped>\n",
       "    .dataframe tbody tr th:only-of-type {\n",
       "        vertical-align: middle;\n",
       "    }\n",
       "\n",
       "    .dataframe tbody tr th {\n",
       "        vertical-align: top;\n",
       "    }\n",
       "\n",
       "    .dataframe thead th {\n",
       "        text-align: right;\n",
       "    }\n",
       "</style>\n",
       "<table border=\"1\" class=\"dataframe\">\n",
       "  <thead>\n",
       "    <tr style=\"text-align: right;\">\n",
       "      <th></th>\n",
       "      <th>author_name</th>\n",
       "      <th>email</th>\n",
       "      <th>affiliation</th>\n",
       "      <th>coauthors_names</th>\n",
       "      <th>research_interest</th>\n",
       "    </tr>\n",
       "  </thead>\n",
       "  <tbody>\n",
       "    <tr>\n",
       "      <th>0</th>\n",
       "      <td>Diane J Cook</td>\n",
       "      <td>eecs.wsu.edu</td>\n",
       "      <td>Washington State University</td>\n",
       "      <td>Lawrence Holder##Parisa Rashidi##Sajal K. Das#...</td>\n",
       "      <td>artificial_intelligence##machine_learning##sma...</td>\n",
       "    </tr>\n",
       "    <tr>\n",
       "      <th>1</th>\n",
       "      <td>Sumi Helal IEEE Fellow AAAS Fellow IET Fellow ...</td>\n",
       "      <td>cise.ufl.edu</td>\n",
       "      <td>University of Florida</td>\n",
       "      <td>Raja Bose##Darrell Woelk##Diane J Cook##Yousse...</td>\n",
       "      <td>digital_health##smart_homes##internet_of_thing...</td>\n",
       "    </tr>\n",
       "    <tr>\n",
       "      <th>2</th>\n",
       "      <td>Hani Hagras</td>\n",
       "      <td>essex.ac.uk</td>\n",
       "      <td>University of Essex</td>\n",
       "      <td>Christian Wagner</td>\n",
       "      <td>explainable_artificial_intelligence##ambient_i...</td>\n",
       "    </tr>\n",
       "    <tr>\n",
       "      <th>3</th>\n",
       "      <td>Anupam Joshi</td>\n",
       "      <td>umbc.edu</td>\n",
       "      <td>UMBC</td>\n",
       "      <td>Tim Finin##Yelena Yesha##Lalana Kagal##Dipanja...</td>\n",
       "      <td>data_management##mobile_computing##security##s...</td>\n",
       "    </tr>\n",
       "    <tr>\n",
       "      <th>4</th>\n",
       "      <td>Dipanjan Chakraborty</td>\n",
       "      <td>in.ibm.com</td>\n",
       "      <td>NaN</td>\n",
       "      <td>Anupam Joshi##Koustuv Dasgupta##Karl Aberer##T...</td>\n",
       "      <td>context_aware_services##mobile_and_pervasive_c...</td>\n",
       "    </tr>\n",
       "  </tbody>\n",
       "</table>\n",
       "</div>"
      ],
      "text/plain": [
       "                                         author_name         email  \\\n",
       "0                                       Diane J Cook  eecs.wsu.edu   \n",
       "1  Sumi Helal IEEE Fellow AAAS Fellow IET Fellow ...  cise.ufl.edu   \n",
       "2                                        Hani Hagras   essex.ac.uk   \n",
       "3                                       Anupam Joshi      umbc.edu   \n",
       "4                               Dipanjan Chakraborty    in.ibm.com   \n",
       "\n",
       "                   affiliation  \\\n",
       "0  Washington State University   \n",
       "1        University of Florida   \n",
       "2          University of Essex   \n",
       "3                         UMBC   \n",
       "4                          NaN   \n",
       "\n",
       "                                     coauthors_names  \\\n",
       "0  Lawrence Holder##Parisa Rashidi##Sajal K. Das#...   \n",
       "1  Raja Bose##Darrell Woelk##Diane J Cook##Yousse...   \n",
       "2                                   Christian Wagner   \n",
       "3  Tim Finin##Yelena Yesha##Lalana Kagal##Dipanja...   \n",
       "4  Anupam Joshi##Koustuv Dasgupta##Karl Aberer##T...   \n",
       "\n",
       "                                   research_interest  \n",
       "0  artificial_intelligence##machine_learning##sma...  \n",
       "1  digital_health##smart_homes##internet_of_thing...  \n",
       "2  explainable_artificial_intelligence##ambient_i...  \n",
       "3  data_management##mobile_computing##security##s...  \n",
       "4  context_aware_services##mobile_and_pervasive_c...  "
      ]
     },
     "execution_count": 34,
     "metadata": {},
     "output_type": "execute_result"
    }
   ],
   "source": [
    "data = pd.read_csv(data_url)\n",
    "data.head()"
   ]
  },
  {
   "cell_type": "markdown",
   "id": "bd02174d",
   "metadata": {},
   "source": [
    "We see that thanks to DVC we can easily store and fetch different versions of files"
   ]
  },
  {
   "cell_type": "markdown",
   "id": "5f13aa1f",
   "metadata": {},
   "source": [
    "Finally, we can log nformation about our datset to the MLflow"
   ]
  },
  {
   "cell_type": "code",
   "execution_count": 36,
   "id": "1852368f",
   "metadata": {},
   "outputs": [],
   "source": [
    "# log important information using mlflow\n",
    "mlflow.start_run()\n",
    "mlflow.log_param(\"data_url\", data_url)"
   ]
  },
  {
   "cell_type": "markdown",
   "id": "2435252d",
   "metadata": {},
   "source": [
    "and so on \n",
    "```python\n",
    "mlflow.log_artifact(...)\n",
    "```"
   ]
  },
  {
   "cell_type": "code",
   "execution_count": null,
   "id": "e58c1961",
   "metadata": {},
   "outputs": [],
   "source": []
  }
 ],
 "metadata": {
  "kernelspec": {
   "display_name": "BookML",
   "language": "python",
   "name": "bookml"
  },
  "language_info": {
   "codemirror_mode": {
    "name": "ipython",
    "version": 3
   },
   "file_extension": ".py",
   "mimetype": "text/x-python",
   "name": "python",
   "nbconvert_exporter": "python",
   "pygments_lexer": "ipython3",
   "version": "3.7.11"
  }
 },
 "nbformat": 4,
 "nbformat_minor": 5
}
