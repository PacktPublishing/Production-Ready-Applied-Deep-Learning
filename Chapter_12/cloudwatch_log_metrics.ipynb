{
 "cells": [
  {
   "cell_type": "markdown",
   "metadata": {},
   "source": [
    "#### The purpose of this notebook is to show an example of logging metrics into CloudWatch"
   ]
  },
  {
   "cell_type": "code",
   "execution_count": null,
   "metadata": {},
   "outputs": [],
   "source": [
    "import boto3\n",
    "# create CloudWatch client using boto3 library\n",
    "cloudwatch = boto3.client('cloudwatch')\n",
    "# metrics data to ingest\n",
    "data_metrics=[\n",
    "{\n",
    "'MetricName': 'gross_merchandise_value',\n",
    "'Dimensions': [\n",
    "{\n",
    "'Name': 'num_goods_sold',\n",
    "'Value': '369'\n",
    "},\n",
    "],\n",
    "'Unit': 'None',\n",
    "'Value': 900000.0\n",
    "}\n",
    "]\n",
    "# ingest the data for monitoring \n",
    "cloudwatch.put_metric_data(\n",
    "    MetricData=data_metrics, # data for metrics \n",
    "    Namespace='ECOMMERCE/Revenue' # namespace to separate domain/projects)\n",
    ")"
   ]
  }
 ],
 "metadata": {
  "instance_type": "ml.t3.medium",
  "kernelspec": {
   "display_name": "Python 3 (Data Science)",
   "language": "python",
   "name": "python3__SAGEMAKER_INTERNAL__arn:aws:sagemaker:us-east-1:081325390199:image/datascience-1.0"
  },
  "language_info": {
   "codemirror_mode": {
    "name": "ipython",
    "version": 3
   },
   "file_extension": ".py",
   "mimetype": "text/x-python",
   "name": "python",
   "nbconvert_exporter": "python",
   "pygments_lexer": "ipython3",
   "version": "3.7.10"
  }
 },
 "nbformat": 4,
 "nbformat_minor": 4
}
