{
 "cells": [
  {
   "cell_type": "markdown",
   "id": "9d43feb0",
   "metadata": {},
   "source": [
    "# Production-Read Applied Deep Learning\n",
    "\n",
    "<img src=\"https://m.media-amazon.com/images/I/41r8WJmFO4L.jpg\" title=\"book\" width=\"450\"/>\n",
    "\n",
    "<table align=\"left\">\n",
    "  <td>\n",
    "    <a href=\"https://colab.research.google.com/github/PacktPublishing/Production-Ready-Applied-Deep-Learning/blob/master/index.ipynb\" target=\"_parent\"><img src=\"https://colab.research.google.com/assets/colab-badge.svg\" alt=\"Open In Colab\"/></a>\n",
    "  </td>"
   ]
  },
  {
   "attachments": {},
   "cell_type": "markdown",
   "id": "2e7fddb5",
   "metadata": {},
   "source": [
    "## Notebooks\n",
    "* Chapter 1 / Effective Planning of Deep Learning Driven Projects \n",
    "* Chapter 2 / Data Preparation for DL projects\n",
    "* Chapter 3 / Developing a Powerful Deep Learning Model\n",
    "    * [TensorFlow](./Chapter_3/TensorFlow.ipynb)\n",
    "    * [PyTorch](./Chapter_3/PyTorch.ipynb)\n",
    "* Chapter 4 / Experiments Tracking, Model Management, and Dataset Versioning\n",
    "* Chapter 5 / Data Preparation on Cloud\n",
    "* Chapter 6 / Efficient Model Training\n",
    "* Chapter 7 / Revealing the secret of DL models\n",
    "* Chapter 8 / Simplifying Deep Learning Model Deployment\n",
    "* Chapter 9 / Scaling Deep Learning Pipeline\n",
    "* Chapter 10 / Improving inference efficiency\n",
    "* Chapter 11 / Deep Learning on Mobile Devices\n",
    "* Chapter 12 / Monitoring and maintenance at production level\n",
    "* Chapter 13 / Reviewing the Completed Deep Learning Project"
   ]
  }
 ],
 "metadata": {
  "kernelspec": {
   "display_name": "BookML",
   "language": "python",
   "name": "bookml"
  },
  "language_info": {
   "codemirror_mode": {
    "name": "ipython",
    "version": 3
   },
   "file_extension": ".py",
   "mimetype": "text/x-python",
   "name": "python",
   "nbconvert_exporter": "python",
   "pygments_lexer": "ipython3",
   "version": "3.7.11"
  }
 },
 "nbformat": 4,
 "nbformat_minor": 5
}
