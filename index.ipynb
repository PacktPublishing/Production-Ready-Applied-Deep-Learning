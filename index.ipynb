{
 "cells": [
  {
   "cell_type": "markdown",
   "id": "9d43feb0",
   "metadata": {},
   "source": [
    "# Production-Read Applied Deep Learning\n",
    "\n",
    "<img src=\"https://m.media-amazon.com/images/I/41r8WJmFO4L.jpg\" title=\"book\" width=\"450\"/>\n",
    "\n",
    "<table align=\"left\">\n",
    "  <td>\n",
    "    <a href=\"https://colab.research.google.com/github/PacktPublishing/Production-Ready-Applied-Deep-Learning/blob/main/index.ipynb\" target=\"_parent\"><img src=\"https://colab.research.google.com/assets/colab-badge.svg\" alt=\"Open In Colab\"/></a>\n",
    "  </td>"
   ]
  },
  {
   "cell_type": "markdown",
   "id": "2e7fddb5",
   "metadata": {},
   "source": [
    "## Notebooks\n",
    "* Chapter 1 / Effective Planning of Deep Learning Driven Projects \n",
    "* Chapter 2 / Data Preparation for DL projects\n",
    "* Chapter 3 / Developing a Powerful Deep Learning Model\n",
    "    * [TensorFlow](./Chapter_3/TensorFlow.ipynb)\n",
    "    * [PyTorch](./Chapter_3/PyTorch.ipynb)\n",
    "* Chapter 4 / Experiments Tracking, Model Management, and Dataset Versioning\n",
    "    * [Weights & Biases](./Chapter_4/W&B.ipynb)\n",
    "    * [MLflow](./Chapter_4/mlflow.ipynb)\n",
    "    * [DVC with MLflow](./Chapter_4/dvc_mlflow.ipynb)\n",
    "* Chapter 5 / Data Preparation on Cloud\n",
    "    * [Spark](./Chapter_5/spark/spark.ipynb)\n",
    "    * [SageMaker](./Chapter_5/sagemaker/cifar10-tensorflow.ipynb)\n",
    "* Chapter 6 / Efficient Model Training\n",
    "    * [TensorFlow](./Chapter_6/TensorFlow.ipynb)\n",
    "    * [PyTorch](./Chapter_6/PyTorch.ipynb)\n",
    "* Chapter 7 / Revealing the secret of DL models\n",
    "    * [Permutation Importance, SHAP, and LIME](./Chapter_7/Secret_of_DL_models.ipynb)\n",
    "* Chapter 8 / Simplifying Deep Learning Model Deployment\n",
    "    * [ONNX](./Chapter_8/onnx.ipynb)\n",
    "* Chapter 9 / Scaling Deep Learning Pipeline\n",
    "    * [EI-Inference](./Chapter_9/sagemaker/ei-inference.ipynb)\n",
    "    * [TensorFlow](./Chapter_9/sagemaker/tf-inference.ipynb)\n",
    "    * [TensorFlow deploy](./Chapter_9/sagemaker/tf_modelfile_deploy.ipynb)\n",
    "    * [PyTorch](./Chapter_9/sagemaker/pytorch-inference.ipynb)\n",
    "* Chapter 10 / Improving inference efficiency\n",
    "    * [Network quantization using TensorFlow](./Chapter_10/network_quantization_pytorch.ipynb)\n",
    "    * [Network quantization using PyTorch](./Chapter_10/network_quantization_tf.ipynb)\n",
    "    * [Weight sharing using TensorFlow](./Chapter_10/weight_sharing_pytorch.ipynb)\n",
    "    * [Weight sharing using PyTorch](./Chapter_10/weight_sharing_tf.ipynb)\n",
    "    * [Network pruning using TensorFlow](./Chapter_10/network_pruning_pytorch.ipynb)\n",
    "    * [Network pruning using PyTorch](./Chapter_10/network_pruning_tf.ipynb)\n",
    "* Chapter 11 / Deep Learning on Mobile Devices\n",
    "* Chapter 12 / Monitoring and maintenance at production level\n",
    "    * [CloudWatch](./Chapter_12/cloudwatch_log_metrics.ipynb)\n",
    "* Chapter 13 / Reviewing the Completed Deep Learning Project"
   ]
  }
 ],
 "metadata": {
  "kernelspec": {
   "display_name": "BookML",
   "language": "python",
   "name": "bookml"
  },
  "language_info": {
   "codemirror_mode": {
    "name": "ipython",
    "version": 3
   },
   "file_extension": ".py",
   "mimetype": "text/x-python",
   "name": "python",
   "nbconvert_exporter": "python",
   "pygments_lexer": "ipython3",
   "version": "3.7.11"
  }
 },
 "nbformat": 4,
 "nbformat_minor": 5
}
