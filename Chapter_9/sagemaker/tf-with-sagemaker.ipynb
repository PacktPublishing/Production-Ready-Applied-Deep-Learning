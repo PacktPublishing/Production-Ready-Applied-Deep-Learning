{
 "cells": [
  {
   "cell_type": "code",
   "execution_count": 3,
   "metadata": {},
   "outputs": [],
   "source": [
    "import os\n",
    "import sagemaker\n",
    "from sagemaker import get_execution_role\n",
    "# set up session\n",
    "sagemaker_session = sagemaker.Session()\n",
    "\n",
    "role = get_execution_role()\n",
    "region = sagemaker_session.boto_session.region_name"
   ]
  },
  {
   "cell_type": "code",
   "execution_count": 5,
   "metadata": {},
   "outputs": [],
   "source": [
    "# S3 path for training data\n",
    "training_data_uri = \"s3://sagemaker-sample-data-{}/tensorflow/mnist\".format(region)"
   ]
  },
  {
   "cell_type": "code",
   "execution_count": 5,
   "metadata": {},
   "outputs": [
    {
     "name": "stdout",
     "output_type": "stream",
     "text": [
      "ls: cannot access '/opt/ml/model': No such file or directory\n"
     ]
    }
   ],
   "source": [
    "!ls -ltr /opt/ml/model"
   ]
  },
  {
   "cell_type": "markdown",
   "metadata": {},
   "source": [
    "### Deploy with TensorFlow class"
   ]
  },
  {
   "cell_type": "code",
   "execution_count": 21,
   "metadata": {},
   "outputs": [],
   "source": [
    "import tensorflow as tf\n",
    "import numpy as np"
   ]
  },
  {
   "cell_type": "code",
   "execution_count": null,
   "metadata": {},
   "outputs": [],
   "source": [
    "# approach 1 with Model class\n",
    "# instance type for the inference endpoint\n",
    "instance_type = 'ml.c5.xlarge' \n",
    "# TF version\n",
    "tf_framework_version = '2.8'\n",
    "# Model instance for inference endpoint creation\n",
    "sm_model = Model(\n",
    "      model_data=model_s3_path, # S3 path for model\n",
    "      framework_version=tf_framework_version, # TF version\n",
    "      role=role) # IAM role of the notebook\n",
    "predictor = sm_model.deploy(\n",
    "                initial_instance_count=1, # number of instances used\n",
    "                instance_type=instance_type)\n"
   ]
  },
  {
   "cell_type": "code",
   "execution_count": null,
   "metadata": {},
   "outputs": [],
   "source": [
    "# approach 2 with TensorFlowModel class\n",
    "# Model instance\n",
    "sm_model = TensorFlowModel(\n",
    "            model_data= model_s3_path, \n",
    "            framework_version=tf_framework_version,\n",
    "            role=role) # IAM role of the notebook\n",
    "# predictor\n",
    "predictor = sm_model.deploy(initial_instance_count=1,\n",
    "                            instance_type= instance_type)\n"
   ]
  }
 ],
 "metadata": {
  "kernelspec": {
   "display_name": "Python 3 (Data Science)",
   "language": "python",
   "name": "python3__SAGEMAKER_INTERNAL__arn:aws:sagemaker:us-east-1:081325390199:image/datascience-1.0"
  },
  "language_info": {
   "codemirror_mode": {
    "name": "ipython",
    "version": 3
   },
   "file_extension": ".py",
   "mimetype": "text/x-python",
   "name": "python",
   "nbconvert_exporter": "python",
   "pygments_lexer": "ipython3",
   "version": "3.7.10"
  }
 },
 "nbformat": 4,
 "nbformat_minor": 4
}
