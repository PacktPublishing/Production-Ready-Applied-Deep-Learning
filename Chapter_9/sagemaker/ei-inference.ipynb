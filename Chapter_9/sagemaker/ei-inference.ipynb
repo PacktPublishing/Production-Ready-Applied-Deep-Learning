{
 "cells": [
  {
   "cell_type": "markdown",
   "source": [
    "#### The purpose of notebook is to deploy a tensorflow model in an ec2 instance with EI accelerator using SageMaker"
   ],
   "metadata": {
    "collapsed": false,
    "pycharm": {
     "name": "#%% md\n"
    }
   }
  },
  {
   "cell_type": "code",
   "execution_count": 7,
   "outputs": [],
   "source": [
    "# For this notebook to run, choose environment Tensorflow 2.0 or less (e.g., Tensorflow 1.x Python 3.7 GPU optimized)\n",
    "# Note: TF only works with Py 2.0 or less and there no image with Py3."
   ],
   "metadata": {
    "collapsed": false,
    "pycharm": {
     "name": "#%%\n"
    }
   }
  },
  {
   "cell_type": "code",
   "execution_count": 5,
   "outputs": [],
   "source": [
    "import os\n",
    "import sagemaker\n",
    "from sagemaker import get_execution_role\n",
    "# set up session\n",
    "sagemaker_session = sagemaker.Session()\n",
    "# IAM role\n",
    "role = get_execution_role()\n",
    "# region\n",
    "region = sagemaker_session.boto_session.region_name"
   ],
   "metadata": {
    "collapsed": false,
    "pycharm": {
     "name": "#%%\n"
    }
   }
  },
  {
   "cell_type": "code",
   "execution_count": 8,
   "metadata": {},
   "outputs": [],
   "source": [
    "################################################\n",
    "# Instructions to prepare the training python file:\n",
    "################################################\n",
    "# (1) Download mnist.py file from below path\n",
    "# https://github.com/aws/amazon-sagemaker-examples/blob/main/sagemaker-python-sdk/tensorflow_script_mode_training_and_serving/mnist-2.py\n",
    "# (2) Rename \"mnist-2.py\" to \"mnist-2.py\".\n",
    "# (3) Copy the \"mnist.py\" into the  root folder on the left side bar of the sagemaker studio notebook.\n",
    "# Refer https://docs.aws.amazon.com/sagemaker/latest/dg/studio-ui.html#studio-ui-nav-bar for left side bar information.\n",
    "# (4) Prettify the python source code using pygmentize (see the next cell)."
   ]
  },
  {
   "cell_type": "code",
   "execution_count": null,
   "metadata": {},
   "outputs": [],
   "source": [
    "# prettify mnist.py file\n",
    "!pygmentize 'mnist.py'"
   ]
  },
  {
   "cell_type": "code",
   "execution_count": null,
   "metadata": {
    "pycharm": {
     "is_executing": true
    }
   },
   "outputs": [],
   "source": [
    "# S3 path for training data, copy the downloaded mnist.py file to this folder\n",
    "training_data_uri = \"s3://sagemaker-model-scripts/tensorflow/mnist\"\n",
    "training_data_uri = \"s3://sagemaker-sample-data-{}/tensorflow/mnist\".format(region)\n",
    "print(training_data_uri)"
   ]
  },
  {
   "cell_type": "code",
   "execution_count": 9,
   "metadata": {},
   "outputs": [],
   "source": [
    "# configure TF model entry point and environment info (instance count, instance type etc)\n",
    "from sagemaker.tensorflow import TensorFlow\n",
    "\n",
    "# TensorFlow model config\n",
    "mnist_estimator2 = TensorFlow(\n",
    "    entry_point=\"mnist.py\",\n",
    "    role=role,\n",
    "    instance_count=2,\n",
    "    instance_type=\"ml.m4.2xlarge\",\n",
    "    framework_version=\"2.1\",\n",
    "    py_version=\"py2\",\n",
    "    distribution={\"parameter_server\": {\"enabled\": True}},\n",
    ")"
   ]
  },
  {
   "cell_type": "code",
   "execution_count": null,
   "metadata": {
    "pycharm": {
     "is_executing": true
    }
   },
   "outputs": [],
   "source": [
    "# training the model\n",
    "mnist_estimator2.fit(training_data_uri)"
   ]
  },
  {
   "cell_type": "code",
   "execution_count": null,
   "metadata": {
    "pycharm": {
     "is_executing": true
    }
   },
   "outputs": [],
   "source": [
    "# deploying a Tensorflow model files using EI\n",
    "predictor = mnist_estimator2.deploy(\n",
    "initial_instance_count=1, # ec2 initial count\n",
    "   instance_type='ml.m4.xlarge', # ec2 instance type\n",
    "   accelerator_type='ml.eia2.medium') # accelerator type\n",
    "\n"
   ]
  },
  {
   "cell_type": "code",
   "execution_count": null,
   "metadata": {},
   "outputs": [],
   "source": [
    "%%time\n",
    "# prediction\n",
    "import numpy as np\n",
    "random_input = np.random.rand(1, 1, 3, 3)\n",
    "# predict for a sample input\n",
    "prediction = predictor.predict({\"inputs\": random_input.tolist()})\n",
    "# print prediction\n",
    "print(prediction)"
   ]
  },
  {
   "cell_type": "code",
   "execution_count": null,
   "metadata": {},
   "outputs": [],
   "source": [
    "# print endpoint\n",
    "print(predictor.endpoint)"
   ]
  },
  {
   "cell_type": "code",
   "execution_count": null,
   "metadata": {},
   "outputs": [],
   "source": [
    "import sagemaker\n",
    "# delete the endpoint\n",
    "predictor.delete_endpoint()"
   ]
  },
  {
   "cell_type": "markdown",
   "metadata": {
    "pycharm": {
     "name": "#%% md\n"
    }
   },
   "source": [
    "#### Reference\n",
    "https://sagemaker-examples.readthedocs.io/en/latest/sagemaker-python-sdk/tensorflow_serving_using_elastic_inference_with_your_own_model/tensorflow_serving_pretrained_model_elastic_inference.html#Load-the-TensorFlow-Serving-Model-on-Amazon-SageMaker-using-Python-SDK\n"
   ]
  }
 ],
 "metadata": {
  "instance_type": "ml.t3.medium",
  "kernelspec": {
   "display_name": "Python 3 (TensorFlow 2.1 Python 3.6 GPU Optimized)",
   "language": "python",
   "name": "python3__SAGEMAKER_INTERNAL__arn:aws:sagemaker:us-east-1:081325390199:image/tensorflow-2.1-gpu-py36"
  },
  "language_info": {
   "codemirror_mode": {
    "name": "ipython",
    "version": 3
   },
   "file_extension": ".py",
   "mimetype": "text/x-python",
   "name": "python",
   "nbconvert_exporter": "python",
   "pygments_lexer": "ipython3",
   "version": "3.6.13"
  }
 },
 "nbformat": 4,
 "nbformat_minor": 4
}